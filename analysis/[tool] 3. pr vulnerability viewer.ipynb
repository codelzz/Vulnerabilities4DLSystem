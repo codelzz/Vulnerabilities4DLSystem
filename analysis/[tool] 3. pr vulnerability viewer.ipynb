{
 "cells": [
  {
   "cell_type": "markdown",
   "id": "367dbb81-474e-4e20-a469-6f79561b6782",
   "metadata": {},
   "source": [
    "## [tool] 3. PR Vulnerability Reviewer"
   ]
  },
  {
   "cell_type": "code",
   "execution_count": 1,
   "id": "0bb8feb4-5232-4785-96c9-af545f732144",
   "metadata": {},
   "outputs": [],
   "source": [
    "import codecs\n",
    "import os\n",
    "import numpy as np\n",
    "import pandas as pd\n",
    "import matplotlib.pyplot as plt\n",
    "import seaborn as sns\n",
    "import re\n",
    "import random\n",
    "import colorama\n",
    "from colorama import Fore, Back, Style\n",
    "from IPython.display import clear_output\n",
    "from ast import literal_eval\n",
    "\n",
    "import settings\n",
    "from utils import vplot, vprint"
   ]
  },
  {
   "cell_type": "code",
   "execution_count": 2,
   "id": "f56f5eef-d02b-40b2-8dae-62603c577097",
   "metadata": {},
   "outputs": [],
   "source": [
    "FRAMEWORKS = ['tensorflow','opencv','pytorch','keras', 'caffe']\n",
    "FILTERED_DIR = settings.DATA_CONFIG['distilled_dir']"
   ]
  },
  {
   "cell_type": "code",
   "execution_count": 3,
   "id": "fe310cdf-9286-4155-ba3d-2f048e5a90fd",
   "metadata": {},
   "outputs": [],
   "source": [
    "def read_csv(framework):\n",
    "    filename = FILTERED_DIR + f'vuln_{framework}_pr+commit.csv'\n",
    "    df = pd.read_csv(filename)\n",
    "    return df"
   ]
  },
  {
   "cell_type": "code",
   "execution_count": 4,
   "id": "d68a2670-09d9-43b6-8abc-728c9f38d6a6",
   "metadata": {},
   "outputs": [],
   "source": [
    "dfs = {}\n",
    "for framework in FRAMEWORKS:\n",
    "    dfs[framework] = read_csv(framework)"
   ]
  },
  {
   "cell_type": "markdown",
   "id": "b3af29ee-e3e8-48fc-8d9a-9b38fafc11c5",
   "metadata": {},
   "source": [
    "### Parse Commit + PR"
   ]
  },
  {
   "cell_type": "code",
   "execution_count": 5,
   "id": "3a3253ce-3596-4038-91c8-4a08251fe107",
   "metadata": {},
   "outputs": [],
   "source": [
    "def highlighter(text, keyword):\n",
    "    l = re.split(keyword, text)\n",
    "    if len(l) <= 0:\n",
    "        return text\n",
    "    text = f'{Style.BRIGHT + Fore.RED + keyword + Fore.RESET + Style.NORMAL}'.join(l)\n",
    "    return text"
   ]
  },
  {
   "cell_type": "code",
   "execution_count": 6,
   "id": "ead2eb5a-e70e-4b20-839d-353f9fe953c3",
   "metadata": {},
   "outputs": [],
   "source": [
    "def parse_list_string(l):\n",
    "    l = re.split(r\"[\\'|\\\"],\\s[\\'|\\\"]\", l.replace(\"\\\\n\",\"\\n\").replace(\"\\\\t\",'\\t').replace('[','').replace(']',''))\n",
    "    l = map(lambda x: x.replace(\"'\",'').replace('\"',''), l)\n",
    "    return list(l)"
   ]
  },
  {
   "cell_type": "code",
   "execution_count": 7,
   "id": "89e3fadf-d2e0-4992-b738-c23bee5ff490",
   "metadata": {},
   "outputs": [],
   "source": [
    "def print_pr(pr, framework):\n",
    "    keyword = pr['keyword']\n",
    "    title = highlighter(text=pr['title'],keyword=keyword)\n",
    "    description = highlighter(text=pr['description'],keyword=keyword)\n",
    "    pr_number = pr['pr_number']\n",
    "    pr_html = pr['pr_html']\n",
    "    commit_urls = parse_list_string(pr['commit_html'])\n",
    "    commit_msgs = parse_list_string(pr['message'])\n",
    "    changed_files = np.unique(parse_list_string(pr['changed_files']))\n",
    "    \n",
    "    print(f\"Framework: {framework} | Number: {pr_number} | URL: {pr_html} | Keyword: {keyword}\")\n",
    "    print(f\"\\n## Title\\n{title}\")\n",
    "    print(f\"\\n## Description\\n{description}\\n\")\n",
    "    print(f\"\\n## Message (Total:{len(commit_urls)})\")\n",
    "    for index, message in enumerate(commit_msgs):\n",
    "        print(f'[Commit {index+1}]  URL: {commit_urls[index]}')\n",
    "        print(highlighter(text=message,keyword=keyword), '\\n')\n",
    "    print('------------|')\n",
    "    \n",
    "    print(f\"\\n## File Involve (Total:{len(changed_files)})\")\n",
    "    for file in changed_files:\n",
    "        print(file)"
   ]
  },
  {
   "cell_type": "markdown",
   "id": "a9648762-4a59-4e25-a109-f613cf670652",
   "metadata": {},
   "source": [
    "## Preview"
   ]
  },
  {
   "cell_type": "code",
   "execution_count": 8,
   "id": "fa54cf19-ca88-41be-be41-dc3ddbb02c86",
   "metadata": {},
   "outputs": [],
   "source": [
    "def preview(dfs, pr_number, framework):\n",
    "    df = dfs[framework]\n",
    "    try:\n",
    "        pr = df[df['pr_number'] == pr_number].iloc[0]\n",
    "        print_pr(pr=pr, framework=framework)\n",
    "    except Exception:\n",
    "        print(\"No matched record\")"
   ]
  },
  {
   "cell_type": "code",
   "execution_count": 10,
   "id": "302963f0-ae83-4e8a-acf8-b5addf2ef423",
   "metadata": {},
   "outputs": [
    {
     "name": "stdout",
     "output_type": "stream",
     "text": [
      "Framework: opencv | Number: 23112 | URL: https://github.com/opencv/opencv/pull/23112 | Keyword: segmentation fault\n",
      "\n",
      "## Title\n",
      "DNN: fix possible \u001b[1m\u001b[31msegmentation fault\u001b[39m\u001b[22m error in winograd on x86\n",
      "\n",
      "## Description\n",
      "The \u001b[1m\u001b[31msegmentation fault\u001b[39m\u001b[22m error only happens in AVX only platform, while the `CV_TRY_AVX2` is true and `checkHardwareSupport(CPU_AVX2)` is false. And this inconsistency will cause Winograd branch code to enter the wrong memory block. And in AVX only platform, the Winograd can not be speeded up by AVX or AVX2 which will be slower than the generic Convolution branch. So, in short term, I think disabling Winograd is a better solution.\n",
      "\n",
      "And for a long-term solution, we should support Winograd at https://github.com/opencv/opencv/blob/4.x/modules/dnn/src/layers/layers_common.simd.hpp. After that, OpenCV can automatically generate AVX or AVX2 code for Winograd based on CPU instruction set. I will try to implement this.\n",
      "\n",
      "detailed discussion: https://github.com/cocoa-xu/evision/issues/153#issuecomment-1374882601.\n",
      "\n",
      "### Pull Request Readiness Checklist\n",
      "\n",
      "See details at https://github.com/opencv/opencv/wiki/How_to_contribute#making-a-good-pull-request\n",
      "\n",
      "- [x] I agree to contribute to the project under Apache 2 License.\n",
      "- [x] To the best of my knowledge, the proposed patch is not based on a code under GPL or another license that is incompatible with OpenCV\n",
      "- [x] The PR is proposed to the proper branch\n",
      "- [ ] There is a reference to the original bug report and related work\n",
      "- [ ] There is accuracy test, performance test and test data in opencv_extra repository, if applicable\n",
      "      Patch to opencv_extra has the same branch name.\n",
      "- [ ] The feature is well documented and sample code can be built with the project CMake\n",
      "\n",
      "\n",
      "\n",
      "## Message (Total:1)\n",
      "[Commit 1]  URL: https://github.com/opencv/opencv/commit/82616eec41f6a6989a3b507822c17fc81a10e296\n",
      "fix possible \u001b[1m\u001b[31msegmentation fault\u001b[39m\u001b[22m error in winograd on x86 \n",
      "\n",
      "------------|\n",
      "\n",
      "## File Involve (Total:3)\n",
      "modules/dnn/src/layers/fast_convolution/fast_convolution.avx2.cpp\n",
      "modules/dnn/src/layers/fast_convolution/fast_convolution.cpp\n",
      "modules/dnn/src/layers/fast_convolution/winograd_3x3s1_f63.cpp\n"
     ]
    }
   ],
   "source": [
    "framework = 'opencv'\n",
    "pr_number = 23112.0\n",
    "\n",
    "\n",
    "\n",
    "preview(dfs=dfs,pr_number=pr_number,framework=framework)"
   ]
  },
  {
   "cell_type": "code",
   "execution_count": null,
   "id": "8ceee0a9-2e77-43b6-9635-de9f76fec77f",
   "metadata": {},
   "outputs": [],
   "source": []
  }
 ],
 "metadata": {
  "kernelspec": {
   "display_name": "Python 3 (ipykernel)",
   "language": "python",
   "name": "python3"
  },
  "language_info": {
   "codemirror_mode": {
    "name": "ipython",
    "version": 3
   },
   "file_extension": ".py",
   "mimetype": "text/x-python",
   "name": "python",
   "nbconvert_exporter": "python",
   "pygments_lexer": "ipython3",
   "version": "3.9.5"
  }
 },
 "nbformat": 4,
 "nbformat_minor": 5
}
