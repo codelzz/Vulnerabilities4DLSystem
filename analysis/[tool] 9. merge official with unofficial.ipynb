{
 "cells": [
  {
   "cell_type": "markdown",
   "id": "eb774f37-8e96-4a60-8657-ac76f0270319",
   "metadata": {},
   "source": [
    "# Merge Official with Unofficial"
   ]
  },
  {
   "cell_type": "code",
   "execution_count": 12,
   "id": "1c774ae8-6bd4-4b53-899e-a71f9476a855",
   "metadata": {},
   "outputs": [],
   "source": [
    "import os\n",
    "import numpy as np\n",
    "import pandas as pd\n",
    "import matplotlib.pyplot as plt\n",
    "import seaborn as sns\n",
    "import re\n",
    "import random\n",
    "from IPython.display import clear_output\n",
    "\n",
    "import settings\n",
    "from utils import vplot, vprint"
   ]
  },
  {
   "cell_type": "code",
   "execution_count": 23,
   "id": "9789b32b-ab67-495a-97cc-495f5b0076f5",
   "metadata": {},
   "outputs": [],
   "source": [
    "DISTILLED_DIR = settings.DATA_CONFIG['distilled_dir']\n",
    "RAW_DIR = settings.DATA_CONFIG['raw_dir']\n",
    "MANUAL_DIR = settings.DATA_CONFIG['manual_dir']\n",
    "FRAMEWORKS = settings.DATA_CONFIG['frameworks']\n",
    "FRAMEWORKS = {v: k for k, v in FRAMEWORKS.items()}\n",
    "\n",
    "COLUMNS = ['Source','Framework','Description','PR Num', 'Keyword', 'CVE ID','Taxonomy','CWE ID','CWE Name',\n",
    "           'Root Cause', 'Fixing Pattern', 'Symptom',\n",
    "           'Line Addition', 'Line Deletion', 'Line Changed', 'File Changed',\n",
    "           'Created At', 'Merged At', 'Time Cost (Hours)', \n",
    "           'Comment Count', 'Review Comment Count',\n",
    "           'Patch URLs']\n",
    "\n",
    "OUTPUT_FILE = MANUAL_DIR + '/vulnerability_manual.xlsx'"
   ]
  },
  {
   "cell_type": "markdown",
   "id": "c2d2f9e9-dac8-4a6d-a8b3-81b62047de65",
   "metadata": {},
   "source": [
    "##### Utils"
   ]
  },
  {
   "cell_type": "code",
   "execution_count": 15,
   "id": "af278c29-6049-4f28-9845-f4ca97792bf5",
   "metadata": {},
   "outputs": [],
   "source": [
    "def get_vuln_official():\n",
    "    return MANUAL_DIR + f'vulnerability_official.xlsx'\n",
    "def get_vuln_unofficial():\n",
    "    return MANUAL_DIR + f'vulnerability_unofficial.xlsx'\n",
    "\n",
    "def to_commit_url(framework,commit):\n",
    "    return f'https://github.com/{FRAMEWORKS[framework]}/{framework}/commit/{commit}'\n",
    "def to_pr_url(framework,pr):\n",
    "    return f'https://github.com/{FRAMEWORKS[framework]}/{framework}/pull/{pr}'"
   ]
  },
  {
   "cell_type": "markdown",
   "id": "04b035b6-a087-46c3-b1db-4d0c52e7f8f5",
   "metadata": {},
   "source": [
    "## Merge"
   ]
  },
  {
   "cell_type": "code",
   "execution_count": 16,
   "id": "c434019f-5c12-4b9a-8183-bcb5c6a1e0f6",
   "metadata": {},
   "outputs": [
    {
     "data": {
      "text/html": [
       "<div>\n",
       "<style scoped>\n",
       "    .dataframe tbody tr th:only-of-type {\n",
       "        vertical-align: middle;\n",
       "    }\n",
       "\n",
       "    .dataframe tbody tr th {\n",
       "        vertical-align: top;\n",
       "    }\n",
       "\n",
       "    .dataframe thead th {\n",
       "        text-align: right;\n",
       "    }\n",
       "</style>\n",
       "<table border=\"1\" class=\"dataframe\">\n",
       "  <thead>\n",
       "    <tr style=\"text-align: right;\">\n",
       "      <th></th>\n",
       "      <th>Source</th>\n",
       "      <th>Framework</th>\n",
       "      <th>Description</th>\n",
       "      <th>PR Num</th>\n",
       "      <th>Keyword</th>\n",
       "      <th>CVE ID</th>\n",
       "      <th>Taxonomy</th>\n",
       "      <th>CWE ID</th>\n",
       "      <th>CWE Name</th>\n",
       "      <th>Root Cause</th>\n",
       "      <th>...</th>\n",
       "      <th>Line Addition</th>\n",
       "      <th>Line Deletion</th>\n",
       "      <th>Line Changed</th>\n",
       "      <th>File Changed</th>\n",
       "      <th>Created At</th>\n",
       "      <th>Merged At</th>\n",
       "      <th>Time Cost (Hours)</th>\n",
       "      <th>Comment Count</th>\n",
       "      <th>Review Comment Count</th>\n",
       "      <th>Patch URLs</th>\n",
       "    </tr>\n",
       "  </thead>\n",
       "  <tbody>\n",
       "  </tbody>\n",
       "</table>\n",
       "<p>0 rows × 22 columns</p>\n",
       "</div>"
      ],
      "text/plain": [
       "Empty DataFrame\n",
       "Columns: [Source, Framework, Description, PR Num, Keyword, CVE ID, Taxonomy, CWE ID, CWE Name, Root Cause, Fixing Pattern, Symptom, Line Addition, Line Deletion, Line Changed, File Changed, Created At, Merged At, Time Cost (Hours), Comment Count, Review Comment Count, Patch URLs]\n",
       "Index: []\n",
       "\n",
       "[0 rows x 22 columns]"
      ]
     },
     "execution_count": 16,
     "metadata": {},
     "output_type": "execute_result"
    }
   ],
   "source": [
    "df = pd.DataFrame(columns = COLUMNS)\n",
    "df"
   ]
  },
  {
   "cell_type": "markdown",
   "id": "ce46f875-f5e4-4352-ab3b-5e671a087415",
   "metadata": {},
   "source": [
    "#### Official Vulnerability"
   ]
  },
  {
   "cell_type": "code",
   "execution_count": 17,
   "id": "bebbe889-39ec-4503-acd1-d677d4371a7a",
   "metadata": {},
   "outputs": [],
   "source": [
    "official_df = pd.read_excel(get_vuln_official(),sheet_name='manual')"
   ]
  },
  {
   "cell_type": "code",
   "execution_count": 18,
   "id": "2bd142c6-b5dd-4b01-8e5e-193933be4c72",
   "metadata": {},
   "outputs": [
    {
     "data": {
      "text/plain": [
       "Index(['CVE ID', 'framework', 'Description', 'Taxonomy', 'Root Cause',\n",
       "       'Fixing Pattern', 'Symptom', 'CWE ID', 'CWE Name', 'commit hash',\n",
       "       'commit description', 'CVSS2 Access Complexity',\n",
       "       'CVSS2 Authentication Required', 'CVSS2 Availability Impact',\n",
       "       'CVSS2 Confidentiality Impact', 'CVSS2 Score', 'CVSS2 Integrity Impact',\n",
       "       'CVSS3attackVector', 'CVSS3attackComplexity', 'CVSS3privilegesRequired',\n",
       "       'CVSS3userInteraction', 'CVSS3scope', 'CVSS3confidentialityImpact',\n",
       "       'CVSS3integrityImpact', 'CVSS3availabilityImpact', 'CVSS3baseScore',\n",
       "       'CVSS3baseSeverity'],\n",
       "      dtype='object')"
      ]
     },
     "execution_count": 18,
     "metadata": {},
     "output_type": "execute_result"
    }
   ],
   "source": [
    "official_df.columns"
   ]
  },
  {
   "cell_type": "code",
   "execution_count": 19,
   "id": "7ccb8877-176b-43b3-90ae-82cb966f4db8",
   "metadata": {},
   "outputs": [
    {
     "name": "stdout",
     "output_type": "stream",
     "text": [
      "465/465\n"
     ]
    }
   ],
   "source": [
    "for index, row in official_df.iterrows():\n",
    "    framework   = row['framework']\n",
    "    cve_id      = row['CVE ID']\n",
    "    commits     = row['commit hash']\n",
    "    description = row['Description']\n",
    "    taxonomy    = row['Taxonomy']\n",
    "    cwe_id      = row['CWE ID']\n",
    "    cwe_name    = row['CWE Name']\n",
    "    root_cause  = row['Root Cause']\n",
    "    fixing_pattern = row['Fixing Pattern']\n",
    "    symptom     = row['Symptom']\n",
    "    patch_urls  = np.nan\n",
    "    if commits is not np.nan:\n",
    "        commits = commits.split(', ')\n",
    "        patch_urls = [ to_commit_url(framework,commit) for commit in commits]\n",
    "    df = df.append({'Source':'Official','Framework':framework,'Description':description,'CVE ID':cve_id,\n",
    "                    'Taxonomy':taxonomy,'CWE ID':cwe_id,'CWE Name':cwe_name,\n",
    "                    'Root Cause':root_cause,'Fixing Pattern':fixing_pattern,'Symptom':symptom,\n",
    "                    'Patch URLs':patch_urls}, ignore_index=True)\n",
    "    clear_output(wait=True)\n",
    "    print(f'{index+1}/{len(official_df)}')"
   ]
  },
  {
   "cell_type": "markdown",
   "id": "a76afc5d-f368-4cf6-838f-2e779220f729",
   "metadata": {},
   "source": [
    "#### Unofficial Vulnerability"
   ]
  },
  {
   "cell_type": "code",
   "execution_count": 21,
   "id": "fbe5b278-8d56-4d3f-a593-fb2f5f6c0b43",
   "metadata": {},
   "outputs": [
    {
     "ename": "KeyError",
     "evalue": "'CWE'",
     "output_type": "error",
     "traceback": [
      "\u001b[1;31m---------------------------------------------------------------------------\u001b[0m",
      "\u001b[1;31mKeyError\u001b[0m                                  Traceback (most recent call last)",
      "File \u001b[1;32m~\\AppData\\Local\\Programs\\Python\\Python39\\lib\\site-packages\\pandas\\core\\indexes\\base.py:3080\u001b[0m, in \u001b[0;36mIndex.get_loc\u001b[1;34m(self, key, method, tolerance)\u001b[0m\n\u001b[0;32m   3079\u001b[0m \u001b[38;5;28;01mtry\u001b[39;00m:\n\u001b[1;32m-> 3080\u001b[0m     \u001b[38;5;28;01mreturn\u001b[39;00m \u001b[38;5;28;43mself\u001b[39;49m\u001b[38;5;241;43m.\u001b[39;49m\u001b[43m_engine\u001b[49m\u001b[38;5;241;43m.\u001b[39;49m\u001b[43mget_loc\u001b[49m\u001b[43m(\u001b[49m\u001b[43mcasted_key\u001b[49m\u001b[43m)\u001b[49m\n\u001b[0;32m   3081\u001b[0m \u001b[38;5;28;01mexcept\u001b[39;00m \u001b[38;5;167;01mKeyError\u001b[39;00m \u001b[38;5;28;01mas\u001b[39;00m err:\n",
      "File \u001b[1;32mpandas\\_libs\\index.pyx:70\u001b[0m, in \u001b[0;36mpandas._libs.index.IndexEngine.get_loc\u001b[1;34m()\u001b[0m\n",
      "File \u001b[1;32mpandas\\_libs\\index.pyx:101\u001b[0m, in \u001b[0;36mpandas._libs.index.IndexEngine.get_loc\u001b[1;34m()\u001b[0m\n",
      "File \u001b[1;32mpandas\\_libs\\hashtable_class_helper.pxi:4554\u001b[0m, in \u001b[0;36mpandas._libs.hashtable.PyObjectHashTable.get_item\u001b[1;34m()\u001b[0m\n",
      "File \u001b[1;32mpandas\\_libs\\hashtable_class_helper.pxi:4562\u001b[0m, in \u001b[0;36mpandas._libs.hashtable.PyObjectHashTable.get_item\u001b[1;34m()\u001b[0m\n",
      "\u001b[1;31mKeyError\u001b[0m: 'CWE'",
      "\nThe above exception was the direct cause of the following exception:\n",
      "\u001b[1;31mKeyError\u001b[0m                                  Traceback (most recent call last)",
      "Cell \u001b[1;32mIn [21], line 3\u001b[0m\n\u001b[0;32m      1\u001b[0m unofficial_df \u001b[38;5;241m=\u001b[39m pd\u001b[38;5;241m.\u001b[39mread_excel(get_vuln_unofficial(),sheet_name\u001b[38;5;241m=\u001b[39m\u001b[38;5;124m'\u001b[39m\u001b[38;5;124mmanual\u001b[39m\u001b[38;5;124m'\u001b[39m)\n\u001b[0;32m      2\u001b[0m \u001b[38;5;66;03m# Unified Description of False Positive \u001b[39;00m\n\u001b[1;32m----> 3\u001b[0m unofficial_df\u001b[38;5;241m.\u001b[39mloc[\u001b[43munofficial_df\u001b[49m\u001b[43m[\u001b[49m\u001b[38;5;124;43m'\u001b[39;49m\u001b[38;5;124;43mCWE\u001b[39;49m\u001b[38;5;124;43m'\u001b[39;49m\u001b[43m]\u001b[49m\u001b[38;5;241m.\u001b[39mstr\u001b[38;5;241m.\u001b[39mcontains(\u001b[38;5;124m'\u001b[39m\u001b[38;5;124mfalse positive\u001b[39m\u001b[38;5;124m'\u001b[39m, case\u001b[38;5;241m=\u001b[39m\u001b[38;5;28;01mFalse\u001b[39;00m)\u001b[38;5;241m.\u001b[39mfillna(\u001b[38;5;28;01mFalse\u001b[39;00m), \u001b[38;5;124m'\u001b[39m\u001b[38;5;124mCWE\u001b[39m\u001b[38;5;124m'\u001b[39m] \u001b[38;5;241m=\u001b[39m \u001b[38;5;124m'\u001b[39m\u001b[38;5;124mfalse positive\u001b[39m\u001b[38;5;124m'\u001b[39m\n\u001b[0;32m      4\u001b[0m \u001b[38;5;66;03m# Unified Description of `Other` \u001b[39;00m\n\u001b[0;32m      5\u001b[0m unofficial_df\u001b[38;5;241m.\u001b[39mloc[unofficial_df[\u001b[38;5;124m'\u001b[39m\u001b[38;5;124mCWE\u001b[39m\u001b[38;5;124m'\u001b[39m]\u001b[38;5;241m.\u001b[39mstr\u001b[38;5;241m.\u001b[39mcontains(\u001b[38;5;124m'\u001b[39m\u001b[38;5;124mOther\u001b[39m\u001b[38;5;124m'\u001b[39m, case\u001b[38;5;241m=\u001b[39m\u001b[38;5;28;01mFalse\u001b[39;00m)\u001b[38;5;241m.\u001b[39mfillna(\u001b[38;5;28;01mFalse\u001b[39;00m), \u001b[38;5;124m'\u001b[39m\u001b[38;5;124mCWE\u001b[39m\u001b[38;5;124m'\u001b[39m] \u001b[38;5;241m=\u001b[39m \u001b[38;5;124m'\u001b[39m\u001b[38;5;124mOther\u001b[39m\u001b[38;5;124m'\u001b[39m\n",
      "File \u001b[1;32m~\\AppData\\Local\\Programs\\Python\\Python39\\lib\\site-packages\\pandas\\core\\frame.py:3024\u001b[0m, in \u001b[0;36mDataFrame.__getitem__\u001b[1;34m(self, key)\u001b[0m\n\u001b[0;32m   3022\u001b[0m \u001b[38;5;28;01mif\u001b[39;00m \u001b[38;5;28mself\u001b[39m\u001b[38;5;241m.\u001b[39mcolumns\u001b[38;5;241m.\u001b[39mnlevels \u001b[38;5;241m>\u001b[39m \u001b[38;5;241m1\u001b[39m:\n\u001b[0;32m   3023\u001b[0m     \u001b[38;5;28;01mreturn\u001b[39;00m \u001b[38;5;28mself\u001b[39m\u001b[38;5;241m.\u001b[39m_getitem_multilevel(key)\n\u001b[1;32m-> 3024\u001b[0m indexer \u001b[38;5;241m=\u001b[39m \u001b[38;5;28;43mself\u001b[39;49m\u001b[38;5;241;43m.\u001b[39;49m\u001b[43mcolumns\u001b[49m\u001b[38;5;241;43m.\u001b[39;49m\u001b[43mget_loc\u001b[49m\u001b[43m(\u001b[49m\u001b[43mkey\u001b[49m\u001b[43m)\u001b[49m\n\u001b[0;32m   3025\u001b[0m \u001b[38;5;28;01mif\u001b[39;00m is_integer(indexer):\n\u001b[0;32m   3026\u001b[0m     indexer \u001b[38;5;241m=\u001b[39m [indexer]\n",
      "File \u001b[1;32m~\\AppData\\Local\\Programs\\Python\\Python39\\lib\\site-packages\\pandas\\core\\indexes\\base.py:3082\u001b[0m, in \u001b[0;36mIndex.get_loc\u001b[1;34m(self, key, method, tolerance)\u001b[0m\n\u001b[0;32m   3080\u001b[0m         \u001b[38;5;28;01mreturn\u001b[39;00m \u001b[38;5;28mself\u001b[39m\u001b[38;5;241m.\u001b[39m_engine\u001b[38;5;241m.\u001b[39mget_loc(casted_key)\n\u001b[0;32m   3081\u001b[0m     \u001b[38;5;28;01mexcept\u001b[39;00m \u001b[38;5;167;01mKeyError\u001b[39;00m \u001b[38;5;28;01mas\u001b[39;00m err:\n\u001b[1;32m-> 3082\u001b[0m         \u001b[38;5;28;01mraise\u001b[39;00m \u001b[38;5;167;01mKeyError\u001b[39;00m(key) \u001b[38;5;28;01mfrom\u001b[39;00m \u001b[38;5;21;01merr\u001b[39;00m\n\u001b[0;32m   3084\u001b[0m \u001b[38;5;28;01mif\u001b[39;00m tolerance \u001b[38;5;129;01mis\u001b[39;00m \u001b[38;5;129;01mnot\u001b[39;00m \u001b[38;5;28;01mNone\u001b[39;00m:\n\u001b[0;32m   3085\u001b[0m     tolerance \u001b[38;5;241m=\u001b[39m \u001b[38;5;28mself\u001b[39m\u001b[38;5;241m.\u001b[39m_convert_tolerance(tolerance, np\u001b[38;5;241m.\u001b[39masarray(key))\n",
      "\u001b[1;31mKeyError\u001b[0m: 'CWE'"
     ]
    }
   ],
   "source": [
    "unofficial_df = pd.read_excel(get_vuln_unofficial(),sheet_name='manual')\n",
    "# Unified Description of False Positive \n",
    "unofficial_df.loc[unofficial_df['CWE'].str.contains('false positive', case=False).fillna(False), 'CWE'] = 'false positive'\n",
    "# Unified Description of `Other` \n",
    "unofficial_df.loc[unofficial_df['CWE'].str.contains('Other', case=False).fillna(False), 'CWE'] = 'Other'\n",
    "# Fill Default Root Case with `Other` \n",
    "unofficial_df.loc[unofficial_df['root_cause'].isnull(), 'root_cause'] = 'Other'\n",
    "# Fill Default Taxonomy with `Other` \n",
    "unofficial_df.loc[unofficial_df['Taxonomy'].str.contains('other', case=False).fillna(False), 'Taxonomy'] = 'other'\n",
    "# Drop all `false positive`\n",
    "unofficial_df = unofficial_df[~(unofficial_df['CWE']=='false positive')].reset_index()"
   ]
  },
  {
   "cell_type": "code",
   "execution_count": 26,
   "id": "66c77736-0d38-49e3-83d1-7bdf5032f473",
   "metadata": {},
   "outputs": [
    {
     "name": "stdout",
     "output_type": "stream",
     "text": [
      "3163/3163\n"
     ]
    }
   ],
   "source": [
    "for index, row in unofficial_df.iterrows():\n",
    "    framework   = row['framework']\n",
    "    pr          = row['pr_number']\n",
    "    keyword     = row['keyword']\n",
    "    description = row['title']\n",
    "    taxonomy    = row['taxonomy']\n",
    "    cwe_id      = np.nan\n",
    "    cwe_name    = np.nan\n",
    "    root_cause  = row['root_cause']\n",
    "    fixing_pattern = row['fixing_pattern']\n",
    "    symptom     = row['symptom']\n",
    "    line_addition = row['line_additions']\n",
    "    line_delettion = row['line_deletions']\n",
    "    created_at = row['created_at']\n",
    "    merged_at = row['merged_at']\n",
    "    line_changed = line_addition + line_delettion\n",
    "    file_changed = row['changed_files_count']\n",
    "    comment_count = row['commits_count']\n",
    "    review_comment_count = row['review_comments_count']\n",
    "    # URLs\n",
    "    patch_urls  = np.nan\n",
    "    if pr is not np.nan:\n",
    "        patch_urls = [to_pr_url(framework,pr)]\n",
    "    df = df.append({'Source':'Unofficial','Framework':framework,'Description':description,\n",
    "                    'Taxonomy':taxonomy,'CWE ID':cwe_id,'CWE Name':cwe_name,\n",
    "                    'Root Cause':root_cause,'Fixing Pattern':fixing_pattern,'Symptom':symptom,\n",
    "                    'Line Addition':line_addition, 'Line Deletion':line_delettion, 'Line Changed':line_changed, \n",
    "                    'File Changed':file_changed,'Created At':created_at, 'Merged At':merged_at,\n",
    "                    'Comment Count':comment_count, 'Review Comment Count':review_comment_count,\n",
    "                    'Patch URLs':patch_urls, 'PR Num':pr, 'Keyword':keyword}, ignore_index=True)\n",
    "    clear_output(wait=True)\n",
    "    print(f'{index+1}/{len(unofficial_df)}')"
   ]
  },
  {
   "cell_type": "code",
   "execution_count": 27,
   "id": "6a1bbb3f-65e2-4293-b0eb-de6858f5938a",
   "metadata": {},
   "outputs": [],
   "source": [
    "## Calculate Time Cost\n",
    "def calc_time_cost(df):\n",
    "    df_ = df[(~df['Created At'].isnull()) & (~df['Merged At'].isnull())]\n",
    "    created_at = pd.to_datetime(df_[\"Created At\"], format=\"%Y-%m-%d\").astype(int) / 10**9\n",
    "    merged_at = pd.to_datetime(df_[\"Merged At\"], format=\"%Y-%m-%d\").astype(int) / 10**9\n",
    "    time_cost = ((merged_at - created_at) / 3600).round(2)\n",
    "    df['Time Cost (Hours)'] = time_cost\n",
    "calc_time_cost(df)"
   ]
  },
  {
   "cell_type": "code",
   "execution_count": 28,
   "id": "e9aa8ff6-aa2f-4de1-af06-eda09b75820b",
   "metadata": {},
   "outputs": [],
   "source": [
    "df = df[COLUMNS]\n",
    "if not os.path.isfile(OUTPUT_FILE):\n",
    "    df.to_excel(OUTPUT_FILE,sheet_name='manual', index=False)"
   ]
  },
  {
   "cell_type": "code",
   "execution_count": null,
   "id": "104f1ca8-3350-4945-9688-a749a44e9e6b",
   "metadata": {},
   "outputs": [],
   "source": []
  }
 ],
 "metadata": {
  "kernelspec": {
   "display_name": "Python 3 (ipykernel)",
   "language": "python",
   "name": "python3"
  },
  "language_info": {
   "codemirror_mode": {
    "name": "ipython",
    "version": 3
   },
   "file_extension": ".py",
   "mimetype": "text/x-python",
   "name": "python",
   "nbconvert_exporter": "python",
   "pygments_lexer": "ipython3",
   "version": "3.9.5"
  }
 },
 "nbformat": 4,
 "nbformat_minor": 5
}
