{
 "cells": [
  {
   "cell_type": "markdown",
   "id": "cbb21066-7cdb-47f1-8f5a-9ecade0cba5a",
   "metadata": {},
   "source": [
    "# Migrate Old Manual Files to new File"
   ]
  },
  {
   "cell_type": "code",
   "execution_count": 1,
   "id": "1ebf4c31-ec50-483f-957b-765b7f4950fd",
   "metadata": {},
   "outputs": [],
   "source": [
    "import codecs\n",
    "import os\n",
    "import numpy as np\n",
    "import pandas as pd\n",
    "import matplotlib.pyplot as plt\n",
    "import seaborn as sns\n",
    "import re\n",
    "import random\n",
    "from IPython.display import clear_output\n",
    "from ast import literal_eval\n",
    "\n",
    "import settings\n",
    "from utils import vplot, vprint"
   ]
  },
  {
   "cell_type": "code",
   "execution_count": 2,
   "id": "fb7dc7de-a1a0-4098-8602-5c4dab1f1814",
   "metadata": {},
   "outputs": [],
   "source": [
    "MANUAL_DIR = settings.DATA_CONFIG['manual_dir']\n",
    "MANUAL_HEADER = ['pr_number','title','keyword','taxonomy','root cause','fixing pattern','symptom']\n",
    "SHEET_NAME = 'manual'\n",
    "FRAMEWORK = 'tensorflow'"
   ]
  },
  {
   "cell_type": "code",
   "execution_count": 3,
   "id": "59ed9f3d-5d65-4264-bc9b-5db0f98995f7",
   "metadata": {},
   "outputs": [],
   "source": [
    "OLD_MANUAL = MANUAL_PATH + f'{FRAMEWORK}_manual_old.xlsx'\n",
    "NEW_MANUAL = MANUAL_PATH + f'{FRAMEWORK}_manual.xlsx'"
   ]
  },
  {
   "cell_type": "code",
   "execution_count": 4,
   "id": "95bde166-2790-42d3-9626-3a83c5b0e23d",
   "metadata": {},
   "outputs": [
    {
     "name": "stderr",
     "output_type": "stream",
     "text": [
      "c:\\users\\zhong\\appdata\\local\\programs\\python\\python39\\lib\\site-packages\\openpyxl\\worksheet\\_reader.py:312: UserWarning: Data Validation extension is not supported and will be removed\n",
      "  warn(msg)\n"
     ]
    }
   ],
   "source": [
    "old_df = pd.read_excel(OLD_MANUAL, sheet_name='manual').astype('object')\n",
    "new_df = pd.read_excel(NEW_MANUAL, sheet_name='manual').astype('object')"
   ]
  },
  {
   "cell_type": "markdown",
   "id": "60f570d3-019d-42a3-a31e-530cc3ba6669",
   "metadata": {},
   "source": [
    "### Iterative Update"
   ]
  },
  {
   "cell_type": "code",
   "execution_count": 5,
   "id": "9ae2a731-5d1c-450a-94af-0c493ab5d2d7",
   "metadata": {},
   "outputs": [],
   "source": [
    "total_row = len(new_df.index)\n",
    "for i, row in new_df.iterrows():\n",
    "    pr_number = row['pr_number']\n",
    "    filter_df = old_df[old_df['pr_number'] == pr_number]\n",
    "    if len(filter_df) > 0:\n",
    "        old_row = filter_df.iloc[0]\n",
    "        new_df.at[i,'taxonomy'] = old_row['taxonomy']\n",
    "        new_df.at[i,'root_cause'] = old_row['root_cause']\n",
    "        new_df.at[i,'fixing_pattern'] = old_row['fixing_pattern']\n",
    "        new_df.at[i,'symptom'] = old_row['symptom']"
   ]
  },
  {
   "cell_type": "code",
   "execution_count": 6,
   "id": "4df1e5fe-b2a1-4947-b32a-4db10948de8a",
   "metadata": {},
   "outputs": [
    {
     "data": {
      "text/html": [
       "<div>\n",
       "<style scoped>\n",
       "    .dataframe tbody tr th:only-of-type {\n",
       "        vertical-align: middle;\n",
       "    }\n",
       "\n",
       "    .dataframe tbody tr th {\n",
       "        vertical-align: top;\n",
       "    }\n",
       "\n",
       "    .dataframe thead th {\n",
       "        text-align: right;\n",
       "    }\n",
       "</style>\n",
       "<table border=\"1\" class=\"dataframe\">\n",
       "  <thead>\n",
       "    <tr style=\"text-align: right;\">\n",
       "      <th></th>\n",
       "      <th>title</th>\n",
       "      <th>pr_number</th>\n",
       "      <th>keyword</th>\n",
       "      <th>taxonomy</th>\n",
       "      <th>root_cause</th>\n",
       "      <th>fixing_pattern</th>\n",
       "      <th>symptom</th>\n",
       "      <th>dl_related</th>\n",
       "      <th>dl_context</th>\n",
       "      <th>pr_html</th>\n",
       "    </tr>\n",
       "  </thead>\n",
       "  <tbody>\n",
       "    <tr>\n",
       "      <th>0</th>\n",
       "      <td>[Crash fix] Fix cudaMallocAsync crashes.</td>\n",
       "      <td>49173</td>\n",
       "      <td>crash</td>\n",
       "      <td>Access of Resource Using Incompatible Type ('T...</td>\n",
       "      <td>Improper Type Conversion</td>\n",
       "      <td>Fix Type Conversion</td>\n",
       "      <td>Crash</td>\n",
       "      <td>True</td>\n",
       "      <td>NaN</td>\n",
       "      <td>https://github.com/tensorflow/tensorflow/pull/...</td>\n",
       "    </tr>\n",
       "  </tbody>\n",
       "</table>\n",
       "</div>"
      ],
      "text/plain": [
       "                                      title pr_number keyword  \\\n",
       "0  [Crash fix] Fix cudaMallocAsync crashes.     49173   crash   \n",
       "\n",
       "                                            taxonomy  \\\n",
       "0  Access of Resource Using Incompatible Type ('T...   \n",
       "\n",
       "                 root_cause       fixing_pattern symptom dl_related  \\\n",
       "0  Improper Type Conversion  Fix Type Conversion   Crash       True   \n",
       "\n",
       "  dl_context                                            pr_html  \n",
       "0        NaN  https://github.com/tensorflow/tensorflow/pull/...  "
      ]
     },
     "execution_count": 6,
     "metadata": {},
     "output_type": "execute_result"
    }
   ],
   "source": [
    "new_df[:1]"
   ]
  },
  {
   "cell_type": "markdown",
   "id": "f3c27e13-f89d-4e76-a35d-8209b379f0fa",
   "metadata": {},
   "source": [
    "### Update Manual"
   ]
  },
  {
   "cell_type": "code",
   "execution_count": 7,
   "id": "768c30ab-f590-45be-9754-4bba68453314",
   "metadata": {},
   "outputs": [],
   "source": [
    "if not os.path.isfile(NEW_MANUAL):\n",
    "    new_df.to_excel(NEW_MANUAL,sheet_name='manual', index=False)  "
   ]
  }
 ],
 "metadata": {
  "kernelspec": {
   "display_name": "Python 3 (ipykernel)",
   "language": "python",
   "name": "python3"
  },
  "language_info": {
   "codemirror_mode": {
    "name": "ipython",
    "version": 3
   },
   "file_extension": ".py",
   "mimetype": "text/x-python",
   "name": "python",
   "nbconvert_exporter": "python",
   "pygments_lexer": "ipython3",
   "version": "3.9.5"
  }
 },
 "nbformat": 4,
 "nbformat_minor": 5
}
