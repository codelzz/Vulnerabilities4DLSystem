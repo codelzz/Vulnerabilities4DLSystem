{
 "cells": [
  {
   "cell_type": "code",
   "execution_count": 1,
   "id": "f5288f91-a908-4c14-a14b-48fe5a5f9553",
   "metadata": {},
   "outputs": [],
   "source": [
    "import codecs\n",
    "import os\n",
    "import numpy as np\n",
    "import pandas as pd\n",
    "import matplotlib.pyplot as plt\n",
    "import seaborn as sns\n",
    "import re\n",
    "import random\n",
    "from IPython.display import clear_output\n",
    "from ast import literal_eval\n",
    "\n",
    "import settings\n",
    "from utils import vplot, vprint"
   ]
  },
  {
   "cell_type": "code",
   "execution_count": 65,
   "id": "8a106f4a-5bf7-48e7-a69d-56fa06ea17f9",
   "metadata": {},
   "outputs": [],
   "source": [
    "FRAMEWORKS = ['tensorflow','opencv','pytorch','keras', 'caffe']\n",
    "\n",
    "MANUAL_DIR = settings.DATA_CONFIG['manual_dir']\n",
    "\n",
    "OLD_FILE = MANUAL_DIR + 'vulnerability.xlsx'\n",
    "NEW_FILE = MANUAL_DIR + 'vulnerability_manual.xlsx'\n",
    "OUT_FILE = MANUAL_DIR + 'vulnerability_sync.xlsx'\n",
    "\n",
    "COLUMNS = ['Source','Framework','Description','PR Num', 'Keyword', 'CVE ID','Taxonomy','CWE ID','CWE Name',\n",
    "           'CWE Pillar','Root Cause', 'Fixing Pattern', 'Symptom',\n",
    "           'Line Addition', 'Line Deletion', 'Line Changed', 'File Changed',\n",
    "           'Created At', 'Merged At', 'Time Cost (Hours)', \n",
    "           'Comment Count', 'Review Comment Count',\n",
    "           'Patch URLs']"
   ]
  },
  {
   "cell_type": "code",
   "execution_count": 4,
   "id": "3e8315fd-455a-4ba9-85da-53c7acadfdd4",
   "metadata": {},
   "outputs": [],
   "source": [
    "def read_csv(filename):\n",
    "    df = pd.read_excel(filename,sheet_name='manual').astype('string')\n",
    "    return df"
   ]
  },
  {
   "cell_type": "code",
   "execution_count": 54,
   "id": "ca28e4bf-6b9d-41de-999a-ca7e2a64f920",
   "metadata": {},
   "outputs": [],
   "source": [
    "old_df = read_csv(filename=OLD_FILE)\n",
    "new_df = read_csv(filename=NEW_FILE)\n",
    "new_df['CWE Pillar'] = \"\""
   ]
  },
  {
   "cell_type": "code",
   "execution_count": 16,
   "id": "2ed6c074-417f-4b67-ba88-b93572210ed2",
   "metadata": {},
   "outputs": [],
   "source": [
    "fdf = old_df[(~old_df['Created At'].isnull()) & (~old_df['Merged At'].isnull())]"
   ]
  },
  {
   "cell_type": "code",
   "execution_count": 18,
   "id": "2410183a-6a2c-4cdf-bf04-4e1763be54d2",
   "metadata": {},
   "outputs": [
    {
     "data": {
      "text/html": [
       "<div>\n",
       "<style scoped>\n",
       "    .dataframe tbody tr th:only-of-type {\n",
       "        vertical-align: middle;\n",
       "    }\n",
       "\n",
       "    .dataframe tbody tr th {\n",
       "        vertical-align: top;\n",
       "    }\n",
       "\n",
       "    .dataframe thead th {\n",
       "        text-align: right;\n",
       "    }\n",
       "</style>\n",
       "<table border=\"1\" class=\"dataframe\">\n",
       "  <thead>\n",
       "    <tr style=\"text-align: right;\">\n",
       "      <th></th>\n",
       "      <th>Framework</th>\n",
       "      <th>Description</th>\n",
       "      <th>CVE ID</th>\n",
       "      <th>Root Cause</th>\n",
       "      <th>Fixing Pattern</th>\n",
       "      <th>Symptom</th>\n",
       "      <th>Taxonomy</th>\n",
       "      <th>CWE ID</th>\n",
       "      <th>CWE Name</th>\n",
       "      <th>CWE Pillar</th>\n",
       "      <th>Line Addition</th>\n",
       "      <th>Line Deletion</th>\n",
       "      <th>Line Changed</th>\n",
       "      <th>File Changed</th>\n",
       "      <th>Created At</th>\n",
       "      <th>Merged At</th>\n",
       "      <th>Time Cost (Hours)</th>\n",
       "      <th>Comment Count</th>\n",
       "      <th>Review Comment Count</th>\n",
       "      <th>Patch URLs</th>\n",
       "    </tr>\n",
       "  </thead>\n",
       "  <tbody>\n",
       "    <tr>\n",
       "      <th>0</th>\n",
       "      <td>tensorflow</td>\n",
       "      <td>[Crash fix] Fix cudaMallocAsync crashes.</td>\n",
       "      <td>&lt;NA&gt;</td>\n",
       "      <td>Improper Type Conversion</td>\n",
       "      <td>Fix Type Conversion</td>\n",
       "      <td>Crash</td>\n",
       "      <td>Access of Resource Using Incompatible Type ('T...</td>\n",
       "      <td>CWE-843</td>\n",
       "      <td>Access of Resource Using Incompatible Type ('T...</td>\n",
       "      <td>Improper Control of a Resource Through its Lif...</td>\n",
       "      <td>55.0</td>\n",
       "      <td>12.0</td>\n",
       "      <td>67.0</td>\n",
       "      <td>6.0</td>\n",
       "      <td>2021-05-13T22:51:35Z</td>\n",
       "      <td>2021-06-17T04:27:01Z</td>\n",
       "      <td>821.59</td>\n",
       "      <td>10.0</td>\n",
       "      <td>12.0</td>\n",
       "      <td>['https://github.com/tensorflow/tensorflow/pul...</td>\n",
       "    </tr>\n",
       "  </tbody>\n",
       "</table>\n",
       "</div>"
      ],
      "text/plain": [
       "    Framework                               Description CVE ID  \\\n",
       "0  tensorflow  [Crash fix] Fix cudaMallocAsync crashes.   <NA>   \n",
       "\n",
       "                 Root Cause       Fixing Pattern Symptom  \\\n",
       "0  Improper Type Conversion  Fix Type Conversion   Crash   \n",
       "\n",
       "                                            Taxonomy   CWE ID  \\\n",
       "0  Access of Resource Using Incompatible Type ('T...  CWE-843   \n",
       "\n",
       "                                            CWE Name  \\\n",
       "0  Access of Resource Using Incompatible Type ('T...   \n",
       "\n",
       "                                          CWE Pillar Line Addition  \\\n",
       "0  Improper Control of a Resource Through its Lif...          55.0   \n",
       "\n",
       "  Line Deletion Line Changed File Changed            Created At  \\\n",
       "0          12.0         67.0          6.0  2021-05-13T22:51:35Z   \n",
       "\n",
       "              Merged At Time Cost (Hours) Comment Count Review Comment Count  \\\n",
       "0  2021-06-17T04:27:01Z            821.59          10.0                 12.0   \n",
       "\n",
       "                                          Patch URLs  \n",
       "0  ['https://github.com/tensorflow/tensorflow/pul...  "
      ]
     },
     "execution_count": 18,
     "metadata": {},
     "output_type": "execute_result"
    }
   ],
   "source": [
    "fdf[:1]"
   ]
  },
  {
   "cell_type": "code",
   "execution_count": 20,
   "id": "b4b60b50-e662-4ca6-bd1e-f5bb5f46a0f7",
   "metadata": {},
   "outputs": [],
   "source": [
    "def find_row(framework, created_at, merged_at, df):    \n",
    "    result = df[(df['Framework'] == framework) & (df['Created At'] == created_at) & (df['Merged At'] == merged_at)]\n",
    "    if len(result) > 0:\n",
    "        return result.iloc[0]\n",
    "    return None"
   ]
  },
  {
   "cell_type": "code",
   "execution_count": 21,
   "id": "df1dba86-7ea3-462f-8043-b04cd2ea28fd",
   "metadata": {},
   "outputs": [
    {
     "data": {
      "text/plain": [
       "Framework                                                      tensorflow\n",
       "Description                      [Crash fix] Fix cudaMallocAsync crashes.\n",
       "CVE ID                                                               <NA>\n",
       "Root Cause                                       Improper Type Conversion\n",
       "Fixing Pattern                                        Fix Type Conversion\n",
       "Symptom                                                             Crash\n",
       "Taxonomy                Access of Resource Using Incompatible Type ('T...\n",
       "CWE ID                                                            CWE-843\n",
       "CWE Name                Access of Resource Using Incompatible Type ('T...\n",
       "CWE Pillar              Improper Control of a Resource Through its Lif...\n",
       "Line Addition                                                        55.0\n",
       "Line Deletion                                                        12.0\n",
       "Line Changed                                                         67.0\n",
       "File Changed                                                          6.0\n",
       "Created At                                           2021-05-13T22:51:35Z\n",
       "Merged At                                            2021-06-17T04:27:01Z\n",
       "Time Cost (Hours)                                                  821.59\n",
       "Comment Count                                                        10.0\n",
       "Review Comment Count                                                 12.0\n",
       "Patch URLs              ['https://github.com/tensorflow/tensorflow/pul...\n",
       "Name: 0, dtype: string"
      ]
     },
     "execution_count": 21,
     "metadata": {},
     "output_type": "execute_result"
    }
   ],
   "source": [
    "find_row(framework='tensorflow',created_at='2021-05-13T22:51:35Z', merged_at='2021-06-17T04:27:01Z', df=fdf)"
   ]
  },
  {
   "cell_type": "code",
   "execution_count": 60,
   "id": "521338d4-3730-4837-a82d-843f6fb1d18f",
   "metadata": {},
   "outputs": [
    {
     "name": "stdout",
     "output_type": "stream",
     "text": [
      "(3611/3611)\n"
     ]
    }
   ],
   "source": [
    "total = len(new_df)\n",
    "for idx, row in new_df.iterrows():\n",
    "    # skip if time not exist\n",
    "    if f\"{row['Created At']}\" == \"<NA>\":\n",
    "        continue\n",
    "    if f\"{row['Merged At']}\" == \"<NA>\":\n",
    "        continue\n",
    "        \n",
    "    result = find_row(framework=row['Framework'],\n",
    "                      created_at=row['Created At'], \n",
    "                      merged_at=row['Merged At'], \n",
    "                      df=fdf)\n",
    "    if result is not None:\n",
    "        new_df.at[idx, 'Taxonomy'] = result['Taxonomy']\n",
    "        new_df.at[idx, 'Root Cause'] = result['Root Cause']\n",
    "        new_df.at[idx, 'Fixing Pattern'] = result['Fixing Pattern']\n",
    "        new_df.at[idx, 'Symptom'] = result['Symptom']\n",
    "        new_df.at[idx, 'CWE Name'] = result['CWE Name']\n",
    "        new_df.at[idx, 'CWE ID'] = result['CWE ID']\n",
    "        new_df.at[idx, 'CWE Pillar'] = result['CWE Pillar']\n",
    "    clear_output(wait=True)\n",
    "    print(f\"({idx+1}/{total})\") "
   ]
  },
  {
   "cell_type": "code",
   "execution_count": 70,
   "id": "6de701c0-39d9-49b9-bf05-65536cd91be8",
   "metadata": {},
   "outputs": [],
   "source": [
    "def find_cve_row(cve, df):    \n",
    "    result = df[df['CVE ID'] == cve]\n",
    "    if len(result) > 0:\n",
    "        return result.iloc[0]\n",
    "    return None"
   ]
  },
  {
   "cell_type": "code",
   "execution_count": 80,
   "id": "a21611a4-b06a-4ba5-81bc-9c959aaf6c1e",
   "metadata": {},
   "outputs": [
    {
     "name": "stdout",
     "output_type": "stream",
     "text": [
      "(3611/3611)\n"
     ]
    }
   ],
   "source": [
    "total = len(new_df)\n",
    "for idx, row in new_df.iterrows():\n",
    "    # skip if time not exist\n",
    "    if f\"{row['CVE ID']}\" != \"<NA>\":\n",
    "        result = find_cve_row(cve=row['CVE ID'], df=old_df)\n",
    "        if result is not None:\n",
    "            new_df.at[idx, 'CWE Pillar'] = result['CWE Pillar']\n",
    "    clear_output(wait=True)\n",
    "    print(f\"({idx+1}/{total})\") "
   ]
  },
  {
   "cell_type": "code",
   "execution_count": 82,
   "id": "bd18d6c9-b270-421a-bf35-3a17ba9709ea",
   "metadata": {},
   "outputs": [],
   "source": [
    "new_df[COLUMNS].to_excel(OUT_FILE,sheet_name='manual', index=False)  "
   ]
  },
  {
   "cell_type": "code",
   "execution_count": null,
   "id": "15d8db5e-4fa2-4617-90c9-038107a277bf",
   "metadata": {},
   "outputs": [],
   "source": []
  }
 ],
 "metadata": {
  "kernelspec": {
   "display_name": "Python 3 (ipykernel)",
   "language": "python",
   "name": "python3"
  },
  "language_info": {
   "codemirror_mode": {
    "name": "ipython",
    "version": 3
   },
   "file_extension": ".py",
   "mimetype": "text/x-python",
   "name": "python",
   "nbconvert_exporter": "python",
   "pygments_lexer": "ipython3",
   "version": "3.9.5"
  }
 },
 "nbformat": 4,
 "nbformat_minor": 5
}
