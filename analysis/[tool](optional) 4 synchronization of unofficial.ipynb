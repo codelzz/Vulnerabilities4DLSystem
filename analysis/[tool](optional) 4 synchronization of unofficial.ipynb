{
 "cells": [
  {
   "cell_type": "code",
   "execution_count": 1,
   "id": "f5288f91-a908-4c14-a14b-48fe5a5f9553",
   "metadata": {},
   "outputs": [],
   "source": [
    "import codecs\n",
    "import os\n",
    "import numpy as np\n",
    "import pandas as pd\n",
    "import matplotlib.pyplot as plt\n",
    "import seaborn as sns\n",
    "import re\n",
    "import random\n",
    "from IPython.display import clear_output\n",
    "from ast import literal_eval\n",
    "\n",
    "import settings\n",
    "from utils import vplot, vprint"
   ]
  },
  {
   "cell_type": "code",
   "execution_count": 2,
   "id": "8a106f4a-5bf7-48e7-a69d-56fa06ea17f9",
   "metadata": {},
   "outputs": [],
   "source": [
    "FRAMEWORKS = ['tensorflow','opencv','pytorch','keras', 'caffe']\n",
    "\n",
    "FILTERED_DIR = settings.DATA_CONFIG['distilled_dir']\n",
    "MANUAL_DIR = settings.DATA_CONFIG['manual_dir']\n",
    "\n",
    "VULN_FILE = MANUAL_DIR + 'vulnerability.xlsx'\n",
    "VULN_SHEET_NAME = 'manual'\n",
    "\n",
    "RELEASE_COLS = ['Framework', 'Description', 'PR Number', 'Keyword', 'Root Cause', 'Fixing Pattern', \n",
    "                'Symptom', 'Taxonomy', 'CVE ID', 'CWE ID', 'CWE Name', 'CWE Pillar',\n",
    "                'Line Addition', 'Line Deletion', 'Line Changed', 'File Changed',\n",
    "                'Created At', 'Merged At', 'Time Cost (Hours)', 'Comment Count',\n",
    "                'Review Comment Count', 'Patch URLs']"
   ]
  },
  {
   "cell_type": "code",
   "execution_count": 3,
   "id": "73c4af72-2bc5-4189-bd30-dcfc9b0ca5d0",
   "metadata": {},
   "outputs": [],
   "source": [
    "def read_csv(framework):\n",
    "    filename = MANUAL_DIR + f'{framework}_manual.xlsx'\n",
    "    df = pd.read_excel(filename,sheet_name='manual')\n",
    "    return df"
   ]
  },
  {
   "cell_type": "code",
   "execution_count": 4,
   "id": "ca28e4bf-6b9d-41de-999a-ca7e2a64f920",
   "metadata": {},
   "outputs": [
    {
     "name": "stdout",
     "output_type": "stream",
     "text": [
      "['title', 'pr_number', 'keyword', 'taxonomy', 'root_cause', 'fixing_pattern', 'symptom', 'pr_html']\n"
     ]
    }
   ],
   "source": [
    "dfs = {}\n",
    "for framework in FRAMEWORKS:\n",
    "    dfs[framework] = read_csv(framework).astype(str)\n",
    "print(list(dfs[FRAMEWORKS[0]].columns))"
   ]
  },
  {
   "cell_type": "code",
   "execution_count": 5,
   "id": "a350680a-4d2b-4d8c-bea7-d8c45b318671",
   "metadata": {},
   "outputs": [],
   "source": [
    "def get_vuln():\n",
    "    df = pd.read_excel(VULN_FILE,sheet_name=VULN_SHEET_NAME)\n",
    "    return df"
   ]
  },
  {
   "cell_type": "code",
   "execution_count": 6,
   "id": "74799064-3c4d-428d-9ae4-e835765cb4ef",
   "metadata": {},
   "outputs": [],
   "source": [
    "vuln_df = get_vuln()"
   ]
  },
  {
   "cell_type": "code",
   "execution_count": 7,
   "id": "54227d6f-6a1e-4b38-9452-520ad51ba8dc",
   "metadata": {},
   "outputs": [],
   "source": [
    "REGEX_PR_NUM = \"(?<=pull\\/)(\\d+)\"\n",
    "vuln_df['PR Number'] = vuln_df['Patch URLs'].str.extract(f\"({REGEX_PR_NUM})\", flags=re.IGNORECASE)[0].str.lower()"
   ]
  },
  {
   "cell_type": "code",
   "execution_count": 8,
   "id": "b4b60b50-e662-4ca6-bd1e-f5bb5f46a0f7",
   "metadata": {},
   "outputs": [],
   "source": [
    "def find_row(framework, pr_num, df):    \n",
    "    result = df[(df['PR Number'] == str(pr_num)) & (df['Framework'] == framework)]\n",
    "    if len(result) > 0:\n",
    "        return result.iloc[0]\n",
    "    return None"
   ]
  },
  {
   "cell_type": "code",
   "execution_count": 9,
   "id": "1333ff17-56e4-40d3-9158-113262849216",
   "metadata": {},
   "outputs": [
    {
     "name": "stdout",
     "output_type": "stream",
     "text": [
      "[caffe](96/96)\n"
     ]
    }
   ],
   "source": [
    "for framework in FRAMEWORKS:\n",
    "    df = dfs[framework]\n",
    "    total = len(df)\n",
    "    for idx, row in df.iterrows():\n",
    "        pr_num = row['pr_number']\n",
    "        row = find_row(framework=framework, pr_num=pr_num, df=vuln_df)\n",
    "        if row is not None:\n",
    "            df.at[idx, 'taxonomy'] = row['Taxonomy']\n",
    "            df.at[idx, 'root_cause'] = row['Root Cause']\n",
    "            df.at[idx, 'fixing_pattern'] = row['Fixing Pattern']\n",
    "            df.at[idx, 'symptom'] = row['Symptom']\n",
    "            clear_output(wait=True)\n",
    "            print(f\"[{framework}]({idx+1}/{total})\")"
   ]
  },
  {
   "cell_type": "code",
   "execution_count": 10,
   "id": "bd18d6c9-b270-421a-bf35-3a17ba9709ea",
   "metadata": {},
   "outputs": [],
   "source": [
    "# for framework in FRAMEWORKS:\n",
    "#     MANUAL_FILE = MANUAL_DIR + f'{framework}_manual.xlsx'\n",
    "#     dfs[framework].to_excel(MANUAL_FILE,sheet_name='manual', index=False)  "
   ]
  }
 ],
 "metadata": {
  "kernelspec": {
   "display_name": "Python 3 (ipykernel)",
   "language": "python",
   "name": "python3"
  },
  "language_info": {
   "codemirror_mode": {
    "name": "ipython",
    "version": 3
   },
   "file_extension": ".py",
   "mimetype": "text/x-python",
   "name": "python",
   "nbconvert_exporter": "python",
   "pygments_lexer": "ipython3",
   "version": "3.9.5"
  }
 },
 "nbformat": 4,
 "nbformat_minor": 5
}
