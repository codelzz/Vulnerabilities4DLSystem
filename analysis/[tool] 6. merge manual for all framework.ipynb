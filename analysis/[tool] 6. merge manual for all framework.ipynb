{
 "cells": [
  {
   "cell_type": "markdown",
   "id": "cbb21066-7cdb-47f1-8f5a-9ecade0cba5a",
   "metadata": {},
   "source": [
    "# Merge Manual Files"
   ]
  },
  {
   "cell_type": "code",
   "execution_count": 1,
   "id": "1ebf4c31-ec50-483f-957b-765b7f4950fd",
   "metadata": {},
   "outputs": [],
   "source": [
    "import codecs\n",
    "import os\n",
    "import numpy as np\n",
    "import pandas as pd\n",
    "import matplotlib.pyplot as plt\n",
    "import seaborn as sns\n",
    "import re\n",
    "import random\n",
    "from IPython.display import clear_output\n",
    "from ast import literal_eval\n",
    "\n",
    "import settings\n",
    "from utils import vplot, vprint"
   ]
  },
  {
   "cell_type": "code",
   "execution_count": 3,
   "id": "fb7dc7de-a1a0-4098-8602-5c4dab1f1814",
   "metadata": {},
   "outputs": [],
   "source": [
    "MANUAL_DIR = settings.DATA_CONFIG['manual_dir']\n",
    "FILTERED_DIR = settings.DATA_CONFIG['distilled_dir']\n",
    "\n",
    "MANUAL_COLUMNS = ['pr_number','title','keyword','taxonomy','root_cause','fixing_pattern','symptom',]\n",
    "VULN_PR_COLUMNS = ['number','comments_count','review_comments_count',\n",
    "                   'commits_count','line_additions','line_deletions',\n",
    "                   'changed_files_count','created_at','updated_at','closed_at','merged_at']\n",
    "OUTPUT_COLUMNS = ['framework'] + MANUAL_COLUMNS\n",
    "MANUAL_SHEET_NAME = 'manual'\n",
    "FRAMEWORKS = ['tensorflow', 'pytorch','opencv','keras','caffe']\n",
    "OUTPUT_FILE = MANUAL_DIR + f'manual_vulnerability.xlsx'"
   ]
  },
  {
   "cell_type": "code",
   "execution_count": 4,
   "id": "768c30ab-f590-45be-9754-4bba68453314",
   "metadata": {},
   "outputs": [],
   "source": [
    "def get_manual(framework):\n",
    "    filename=MANUAL_DIR + f'{framework}_manual.xlsx'\n",
    "    df = pd.read_excel(filename,sheet_name=MANUAL_SHEET_NAME)\n",
    "    return df[MANUAL_COLUMNS]"
   ]
  },
  {
   "cell_type": "code",
   "execution_count": 5,
   "id": "9f912359-8c9a-45ce-9950-1c904c04e5e2",
   "metadata": {},
   "outputs": [],
   "source": [
    "def get_vuln_pr(framework):\n",
    "    filename=FILTERED_DIR+f'vuln_{framework}_pr.csv'\n",
    "    df = pd.read_csv(filename)\n",
    "    return df[VULN_PR_COLUMNS]"
   ]
  },
  {
   "cell_type": "markdown",
   "id": "cdf0f239-5fd4-4a05-9168-131c3c5f2952",
   "metadata": {},
   "source": [
    "### Concatenate All Frameworks"
   ]
  },
  {
   "cell_type": "code",
   "execution_count": 6,
   "id": "62327868-0b24-49e1-b3bb-6a174ad46562",
   "metadata": {},
   "outputs": [],
   "source": [
    "df = pd.DataFrame(columns=MANUAL_COLUMNS)\n",
    "df_list = []\n",
    "for framework in FRAMEWORKS:\n",
    "    df_ = get_manual(framework)\n",
    "    df_['framework'] = framework\n",
    "    df_list.append(df_)\n",
    "df = pd.concat(df_list, ignore_index=True)\n",
    "df = df[OUTPUT_COLUMNS]"
   ]
  },
  {
   "cell_type": "code",
   "execution_count": 7,
   "id": "e2742b25-42c5-4868-9575-9cc9f1ad4bee",
   "metadata": {},
   "outputs": [
    {
     "data": {
      "text/html": [
       "<div>\n",
       "<style scoped>\n",
       "    .dataframe tbody tr th:only-of-type {\n",
       "        vertical-align: middle;\n",
       "    }\n",
       "\n",
       "    .dataframe tbody tr th {\n",
       "        vertical-align: top;\n",
       "    }\n",
       "\n",
       "    .dataframe thead th {\n",
       "        text-align: right;\n",
       "    }\n",
       "</style>\n",
       "<table border=\"1\" class=\"dataframe\">\n",
       "  <thead>\n",
       "    <tr style=\"text-align: right;\">\n",
       "      <th></th>\n",
       "      <th>framework</th>\n",
       "      <th>pr_number</th>\n",
       "      <th>title</th>\n",
       "      <th>keyword</th>\n",
       "      <th>taxonomy</th>\n",
       "      <th>root_cause</th>\n",
       "      <th>fixing_pattern</th>\n",
       "      <th>symptom</th>\n",
       "    </tr>\n",
       "  </thead>\n",
       "  <tbody>\n",
       "    <tr>\n",
       "      <th>0</th>\n",
       "      <td>tensorflow</td>\n",
       "      <td>59038</td>\n",
       "      <td>Fix memory leaks in xla::CpuGpuFusionTest</td>\n",
       "      <td>memory leak</td>\n",
       "      <td>Missing Release of Memory after Effective Life...</td>\n",
       "      <td>Incorrect Indices</td>\n",
       "      <td>Update Memory Allocation Method</td>\n",
       "      <td>NaN</td>\n",
       "    </tr>\n",
       "  </tbody>\n",
       "</table>\n",
       "</div>"
      ],
      "text/plain": [
       "    framework  pr_number                                      title  \\\n",
       "0  tensorflow      59038  Fix memory leaks in xla::CpuGpuFusionTest   \n",
       "\n",
       "       keyword                                           taxonomy  \\\n",
       "0  memory leak  Missing Release of Memory after Effective Life...   \n",
       "\n",
       "          root_cause                   fixing_pattern symptom  \n",
       "0  Incorrect Indices  Update Memory Allocation Method     NaN  "
      ]
     },
     "execution_count": 7,
     "metadata": {},
     "output_type": "execute_result"
    }
   ],
   "source": [
    "df[:1]"
   ]
  },
  {
   "cell_type": "markdown",
   "id": "82b58cc8-1676-4e4e-90f1-cf1fc710108f",
   "metadata": {},
   "source": [
    "### Concate All Vuln PR"
   ]
  },
  {
   "cell_type": "code",
   "execution_count": 8,
   "id": "7062bf51-5ae1-40bf-b4b7-161c1f75db74",
   "metadata": {},
   "outputs": [],
   "source": [
    "pr_df = pd.DataFrame(columns=MANUAL_COLUMNS)\n",
    "pr_df_list = []\n",
    "for framework in FRAMEWORKS:\n",
    "    df_ = get_vuln_pr(framework)\n",
    "    df_['framework'] = framework\n",
    "    df_['pr_number'] = df_['number']\n",
    "    pr_df_list.append(df_)\n",
    "pr_df = pd.concat(pr_df_list, ignore_index=True).drop(columns=['number'])"
   ]
  },
  {
   "cell_type": "code",
   "execution_count": 10,
   "id": "f48b6699-ac72-4a0e-9a18-7565417df1d1",
   "metadata": {},
   "outputs": [
    {
     "data": {
      "text/html": [
       "<div>\n",
       "<style scoped>\n",
       "    .dataframe tbody tr th:only-of-type {\n",
       "        vertical-align: middle;\n",
       "    }\n",
       "\n",
       "    .dataframe tbody tr th {\n",
       "        vertical-align: top;\n",
       "    }\n",
       "\n",
       "    .dataframe thead th {\n",
       "        text-align: right;\n",
       "    }\n",
       "</style>\n",
       "<table border=\"1\" class=\"dataframe\">\n",
       "  <thead>\n",
       "    <tr style=\"text-align: right;\">\n",
       "      <th></th>\n",
       "      <th>comments_count</th>\n",
       "      <th>review_comments_count</th>\n",
       "      <th>commits_count</th>\n",
       "      <th>line_additions</th>\n",
       "      <th>line_deletions</th>\n",
       "      <th>changed_files_count</th>\n",
       "      <th>created_at</th>\n",
       "      <th>updated_at</th>\n",
       "      <th>closed_at</th>\n",
       "      <th>merged_at</th>\n",
       "      <th>framework</th>\n",
       "      <th>pr_number</th>\n",
       "    </tr>\n",
       "  </thead>\n",
       "  <tbody>\n",
       "    <tr>\n",
       "      <th>0</th>\n",
       "      <td>0</td>\n",
       "      <td>0</td>\n",
       "      <td>1</td>\n",
       "      <td>3</td>\n",
       "      <td>3</td>\n",
       "      <td>1</td>\n",
       "      <td>2022-12-28T18:27:54Z</td>\n",
       "      <td>2023-01-09T09:08:06Z</td>\n",
       "      <td>2022-12-30T21:05:05Z</td>\n",
       "      <td>2022-12-30T21:05:05Z</td>\n",
       "      <td>tensorflow</td>\n",
       "      <td>59038</td>\n",
       "    </tr>\n",
       "  </tbody>\n",
       "</table>\n",
       "</div>"
      ],
      "text/plain": [
       "   comments_count  review_comments_count  commits_count  line_additions  \\\n",
       "0               0                      0              1               3   \n",
       "\n",
       "   line_deletions  changed_files_count            created_at  \\\n",
       "0               3                    1  2022-12-28T18:27:54Z   \n",
       "\n",
       "             updated_at             closed_at             merged_at  \\\n",
       "0  2023-01-09T09:08:06Z  2022-12-30T21:05:05Z  2022-12-30T21:05:05Z   \n",
       "\n",
       "    framework  pr_number  \n",
       "0  tensorflow      59038  "
      ]
     },
     "execution_count": 10,
     "metadata": {},
     "output_type": "execute_result"
    }
   ],
   "source": [
    "pr_df[:1]"
   ]
  },
  {
   "cell_type": "markdown",
   "id": "c3617654-f77b-4891-83b5-05a13d6e67c9",
   "metadata": {},
   "source": [
    "### Merge"
   ]
  },
  {
   "cell_type": "code",
   "execution_count": 11,
   "id": "fb5876a9-08af-418a-ab8c-cba49a6d1a22",
   "metadata": {},
   "outputs": [
    {
     "name": "stdout",
     "output_type": "stream",
     "text": [
      "3163 3164\n"
     ]
    }
   ],
   "source": [
    "print(len(df),len(pr_df))"
   ]
  },
  {
   "cell_type": "code",
   "execution_count": 12,
   "id": "2f7965bc-37b3-417f-b8d0-85cc9f0da1a1",
   "metadata": {},
   "outputs": [],
   "source": [
    "merged_df = df.merge(pr_df, on=['framework','pr_number'])"
   ]
  },
  {
   "cell_type": "code",
   "execution_count": 13,
   "id": "35534922-e67a-4125-9a66-7606a2c733d3",
   "metadata": {},
   "outputs": [
    {
     "data": {
      "text/plain": [
       "Index(['framework', 'pr_number', 'title', 'keyword', 'taxonomy', 'root_cause',\n",
       "       'fixing_pattern', 'symptom', 'comments_count', 'review_comments_count',\n",
       "       'commits_count', 'line_additions', 'line_deletions',\n",
       "       'changed_files_count', 'created_at', 'updated_at', 'closed_at',\n",
       "       'merged_at'],\n",
       "      dtype='object')"
      ]
     },
     "execution_count": 13,
     "metadata": {},
     "output_type": "execute_result"
    }
   ],
   "source": [
    "merged_df.columns"
   ]
  },
  {
   "cell_type": "code",
   "execution_count": 14,
   "id": "6af1271a-9a04-4b98-bb00-19396b931a82",
   "metadata": {},
   "outputs": [],
   "source": [
    "if not os.path.isfile(OUTPUT_FILE):\n",
    "    merged_df.to_excel(OUTPUT_FILE,sheet_name='manual', index=False)"
   ]
  },
  {
   "cell_type": "code",
   "execution_count": null,
   "id": "e365c6e9-308a-42cf-b275-77464bf34f83",
   "metadata": {},
   "outputs": [],
   "source": []
  }
 ],
 "metadata": {
  "kernelspec": {
   "display_name": "Python 3 (ipykernel)",
   "language": "python",
   "name": "python3"
  },
  "language_info": {
   "codemirror_mode": {
    "name": "ipython",
    "version": 3
   },
   "file_extension": ".py",
   "mimetype": "text/x-python",
   "name": "python",
   "nbconvert_exporter": "python",
   "pygments_lexer": "ipython3",
   "version": "3.9.5"
  }
 },
 "nbformat": 4,
 "nbformat_minor": 5
}
