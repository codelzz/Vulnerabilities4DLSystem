{
 "cells": [
  {
   "cell_type": "markdown",
   "id": "6afcba87-6425-4308-9e73-205b1774324c",
   "metadata": {},
   "source": [
    "# 7.create CVE manual analysis file"
   ]
  },
  {
   "cell_type": "code",
   "execution_count": 1,
   "id": "05f3080e-f6ce-4be9-b27c-770a9d4dea0c",
   "metadata": {},
   "outputs": [],
   "source": [
    "import codecs\n",
    "import os\n",
    "import numpy as np\n",
    "import pandas as pd\n",
    "import matplotlib.pyplot as plt\n",
    "import seaborn as sns\n",
    "import re\n",
    "import random\n",
    "from IPython.display import clear_output\n",
    "from ast import literal_eval\n",
    "\n",
    "import settings\n",
    "from utils import vplot, vprint"
   ]
  },
  {
   "cell_type": "code",
   "execution_count": 2,
   "id": "5b534e5c-33c3-417b-b1e6-d9729a6a32f4",
   "metadata": {},
   "outputs": [],
   "source": [
    "DISTILLED_DIR = settings.DATA_CONFIG['distilled_dir']\n",
    "RAW_DIR = settings.DATA_CONFIG['raw_dir']\n",
    "MANUAL_DIR = settings.DATA_CONFIG['manual_dir']\n",
    "\n",
    "FRAMEWORKS = ['tensorflow','caffe','opencv','pytorch','keras']\n",
    "# MANUAL_COLUMNS = ['CVE ID', 'framework',  'Description', 'commit hash', 'commit description', 'CWE ID',  'CVSS2 Access Complexity',\n",
    "#        'CVSS2 Authentication Required', 'CVSS2 Availability Impact',\n",
    "#        'CVSS2 Confidentiality Impact', 'CVSS2 Score', 'CVSS2 Integrity Impact',\n",
    "#        'CVSS3attackVector', 'CVSS3attackComplexity', 'CVSS3privilegesRequired',\n",
    "#        'CVSS3userInteraction', 'CVSS3scope', 'CVSS3confidentialityImpact',\n",
    "#        'CVSS3integrityImpact', 'CVSS3availabilityImpact', 'CVSS3baseScore',\n",
    "#        'CVSS3baseSeverity']\n",
    "\n",
    "MANUAL_COLUMNS = ['CVE ID', 'framework',  'Description', 'Taxonomy','Root Cause','Fixing Pattern', 'Symptom', \n",
    "                  'CWE ID', 'CWE Name', 'commit hash', 'commit description', 'CVSS2 Access Complexity',\n",
    "       'CVSS2 Authentication Required', 'CVSS2 Availability Impact',\n",
    "       'CVSS2 Confidentiality Impact', 'CVSS2 Score', 'CVSS2 Integrity Impact',\n",
    "       'CVSS3attackVector', 'CVSS3attackComplexity', 'CVSS3privilegesRequired',\n",
    "       'CVSS3userInteraction', 'CVSS3scope', 'CVSS3confidentialityImpact',\n",
    "       'CVSS3integrityImpact', 'CVSS3availabilityImpact', 'CVSS3baseScore',\n",
    "       'CVSS3baseSeverity',]\n",
    "\n",
    "OUTPUT_FILE = MANUAL_DIR + 'vulnerability_official.xlsx'"
   ]
  },
  {
   "cell_type": "code",
   "execution_count": 3,
   "id": "c0748f2f-dbd9-486a-908c-fadbba7a4b3a",
   "metadata": {},
   "outputs": [],
   "source": [
    "def get_cve_file(framework):\n",
    "    return DISTILLED_DIR + f'nvd_{framework}.csv'\n",
    "def get_vuln_pr_file(framework):\n",
    "    return DISTILLED_DIR + f'vuln_{framework}_pr.csv'\n",
    "def get_vuln_commit_file(framework):\n",
    "    return DISTILLED_DIR + f'vuln_{framework}_commit.csv'\n",
    "def get_vuln_pr_commit_file(framework):\n",
    "    return DISTILLED_DIR + f'vuln_{framework}_pr+commit.csv'\n",
    "def get_pr_file(framework):\n",
    "    return RAW_DIR + f'{framework}_pr.csv'\n",
    "def get_commit_file(framework):\n",
    "    return RAW_DIR + f'{framework}_commit.csv'\n",
    "def get_issue_file(framework):\n",
    "    return RAW_DIR + f'{framework}_issue.csv'"
   ]
  },
  {
   "cell_type": "code",
   "execution_count": 4,
   "id": "02c5ae39-4443-457f-8ead-e21f926a6cad",
   "metadata": {},
   "outputs": [],
   "source": [
    "REGEX_ONLY_FIRST_COMMA = r'^([^,]*),'\n",
    "REGEX_ONLY_FIRST_WHITESPACE = r'^([^\\s]*)\\s'\n",
    "REGEX_TEXT_BEFORE_FIRST_COMMA = r'^[^,]*'\n",
    "REGEX_TEXT_AFTER_LAST_COMMA = r'[^,]*$'\n",
    "REGEX_TEXT_BETWEEN_FIRST_AND_LAST_COMMA = r'(?<=,).+(?=,)'"
   ]
  },
  {
   "cell_type": "markdown",
   "id": "eeb964c9-62c9-4a16-8725-ca46aa9dfa63",
   "metadata": {},
   "source": [
    "### Coverage Analysis\n",
    "\n",
    "Check how many overlap between latent vulnerability search result and official records from CVE"
   ]
  },
  {
   "cell_type": "code",
   "execution_count": 5,
   "id": "18adcf31-bfe6-4552-b851-c6ab0c8ca6b4",
   "metadata": {},
   "outputs": [
    {
     "name": "stdout",
     "output_type": "stream",
     "text": [
      "| Framework | Total | Commit | Cover | Cover Rate |\n",
      "| tensorflow|   407 |    395 |    68 |    16.71 % |\n",
      "| caffe     |    12 |      0 |     0 |      0.0 % |\n",
      "| opencv    |    38 |      2 |     1 |     2.63 % |\n",
      "| pytorch   |     4 |      1 |     0 |      0.0 % |\n",
      "| keras     |     4 |      0 |     0 |      0.0 % |\n"
     ]
    }
   ],
   "source": [
    "def stat_verified_vuln_search_coverage(frameworks):\n",
    "    print(f'| Framework | Total | Commit | Cover | Cover Rate |')\n",
    "    for framework in frameworks:\n",
    "        cve_df = pd.read_csv(get_cve_file(framework=framework))\n",
    "        cve_df = cve_df[['commit hash','CWE ID','CVE ID']] \n",
    "        cve_commit_df = cve_df[~cve_df['commit hash'].isnull()].reset_index(drop=True)\n",
    "        cve_commit_df['hash'] = cve_commit_df['commit hash'].str[:7]\n",
    "        commit_df = pd.read_csv(get_commit_file(framework=framework), sep=REGEX_ONLY_FIRST_WHITESPACE, engine='python', header=0, names=[\"tmp\", \"commit\",\"description\"]).drop(columns=[\"tmp\"])\n",
    "        commit_df['hash'] = commit_df['commit'].str[:7]\n",
    "        ex_cve_df = pd.merge(cve_commit_df, commit_df, on=[\"hash\"])[['hash','CWE ID', 'CVE ID', 'description']]\n",
    "        ex_cve_df['cover'] = False\n",
    "        with open(get_vuln_pr_commit_file(framework), errors='ignore') as f:\n",
    "            file = f.read()\n",
    "            for i, row in ex_cve_df.iterrows():\n",
    "                if row['hash'] in file:\n",
    "                    ex_cve_df.at[i,'cover'] = True\n",
    "        total, commit, cover = len(cve_df), len(ex_cve_df), len(ex_cve_df[ex_cve_df['cover']])\n",
    "        print(f\"| {framework:10}| {total:5} | {commit:6} | {cover:5} | {round(cover/total*100, 2):8} % |\")\n",
    "stat_verified_vuln_search_coverage(frameworks=FRAMEWORKS)"
   ]
  },
  {
   "cell_type": "markdown",
   "id": "25b659e4-c3de-499c-b447-f7a0c9289549",
   "metadata": {},
   "source": [
    "### Merge CVE"
   ]
  },
  {
   "cell_type": "code",
   "execution_count": 6,
   "id": "bf9a5f8c-ff80-42c8-aabe-aedb35cb4e57",
   "metadata": {},
   "outputs": [],
   "source": [
    "def get_all_framework(frameworks):\n",
    "    df_list = []\n",
    "    for framework in FRAMEWORKS:\n",
    "        # load\n",
    "        cve_df = pd.read_csv(get_cve_file(framework=framework))\n",
    "        raw_commit_df = pd.read_csv(get_commit_file(framework=framework), sep=REGEX_ONLY_FIRST_WHITESPACE, engine='python', header=0, names=[\"tmp\", \"commit\",\"description\"]).drop(columns=[\"tmp\"])\n",
    "        # extra key\n",
    "        cve_df['hash'] = cve_df['commit hash'].str[:7]\n",
    "        raw_commit_df['hash'] = raw_commit_df['commit'].str[:7]\n",
    "        # filter\n",
    "        cve_commit_df = cve_df[~cve_df['commit hash'].isnull()].reset_index(drop=True)\n",
    "        # join on key, cve_commit_df,raw_commit_df\n",
    "        merged_df = pd.merge(cve_commit_df,raw_commit_df,on='hash')\n",
    "        merged_df['commit description'] = merged_df['description']\n",
    "        merged_df = merged_df[['hash', 'commit description']]\n",
    "        # join on key\n",
    "        df = pd.merge(cve_df,merged_df.drop_duplicates(subset=['hash']),on='hash',how='left')\n",
    "        df['framework'] = framework\n",
    "        df_list.append(df)\n",
    "    return pd.concat(df_list, ignore_index=True)\n",
    "dfs = get_all_framework(frameworks=FRAMEWORKS)"
   ]
  },
  {
   "cell_type": "markdown",
   "id": "2d999ba2-7e50-40e7-82c2-cad8c87a1bbf",
   "metadata": {},
   "source": [
    "## Save"
   ]
  },
  {
   "cell_type": "code",
   "execution_count": 7,
   "id": "a84ef84d-1179-4b74-9135-58c1fdbe91ad",
   "metadata": {},
   "outputs": [],
   "source": [
    "if not os.path.isfile(OUTPUT_FILE):\n",
    "    dfs['Taxonomy'] = ''\n",
    "    dfs['Root Cause'] = ''\n",
    "    dfs['Fixing Pattern'] = ''\n",
    "    dfs['Symptom'] = ''\n",
    "    dfs['CWE Name'] = ''\n",
    "    dfs = dfs[MANUAL_COLUMNS]\n",
    "    dfs.to_excel(OUTPUT_FILE,sheet_name='manual', index=False)"
   ]
  },
  {
   "cell_type": "code",
   "execution_count": null,
   "id": "997f54b1-6f5c-450c-83ac-8de3d18c77f3",
   "metadata": {},
   "outputs": [],
   "source": []
  }
 ],
 "metadata": {
  "kernelspec": {
   "display_name": "Python 3 (ipykernel)",
   "language": "python",
   "name": "python3"
  },
  "language_info": {
   "codemirror_mode": {
    "name": "ipython",
    "version": 3
   },
   "file_extension": ".py",
   "mimetype": "text/x-python",
   "name": "python",
   "nbconvert_exporter": "python",
   "pygments_lexer": "ipython3",
   "version": "3.9.5"
  }
 },
 "nbformat": 4,
 "nbformat_minor": 5
}
