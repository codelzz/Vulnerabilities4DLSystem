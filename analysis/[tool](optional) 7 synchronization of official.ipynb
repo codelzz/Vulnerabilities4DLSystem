{
 "cells": [
  {
   "cell_type": "code",
   "execution_count": 24,
   "id": "f5288f91-a908-4c14-a14b-48fe5a5f9553",
   "metadata": {},
   "outputs": [],
   "source": [
    "import codecs\n",
    "import os\n",
    "import numpy as np\n",
    "import pandas as pd\n",
    "import matplotlib.pyplot as plt\n",
    "import seaborn as sns\n",
    "import re\n",
    "import random\n",
    "from IPython.display import clear_output\n",
    "from ast import literal_eval\n",
    "\n",
    "import settings\n",
    "from utils import vplot, vprint"
   ]
  },
  {
   "cell_type": "code",
   "execution_count": 25,
   "id": "8a106f4a-5bf7-48e7-a69d-56fa06ea17f9",
   "metadata": {},
   "outputs": [],
   "source": [
    "FRAMEWORKS = ['tensorflow','opencv','pytorch','keras', 'caffe']\n",
    "\n",
    "FILTERED_DIR = settings.DATA_CONFIG['distilled_dir']\n",
    "MANUAL_DIR = settings.DATA_CONFIG['manual_dir']\n",
    "\n",
    "VULN_FILE = MANUAL_DIR + 'vulnerability.xlsx'\n",
    "VULN_SHEET_NAME = 'manual'\n",
    "\n",
    "MANUAL_COLUMNS = ['CVE ID', 'framework',  'Description', 'Taxonomy','Root Cause','Fix Pattern', 'Symptom', \n",
    "                  'CWE ID', 'CWE Name', 'commit hash', 'commit description', 'CVSS2 Access Complexity',\n",
    "       'CVSS2 Authentication Required', 'CVSS2 Availability Impact',\n",
    "       'CVSS2 Confidentiality Impact', 'CVSS2 Score', 'CVSS2 Integrity Impact',\n",
    "       'CVSS3attackVector', 'CVSS3attackComplexity', 'CVSS3privilegesRequired',\n",
    "       'CVSS3userInteraction', 'CVSS3scope', 'CVSS3confidentialityImpact',\n",
    "       'CVSS3integrityImpact', 'CVSS3availabilityImpact', 'CVSS3baseScore',\n",
    "       'CVSS3baseSeverity']\n",
    "\n",
    "OUTPUT_FILE = MANUAL_DIR + 'vulnerability_official.xlsx'"
   ]
  },
  {
   "cell_type": "code",
   "execution_count": 40,
   "id": "3e8315fd-455a-4ba9-85da-53c7acadfdd4",
   "metadata": {},
   "outputs": [],
   "source": [
    "def read_csv():\n",
    "    filename = OUTPUT_FILE\n",
    "    df = pd.read_excel(filename,sheet_name='manual').astype('string')\n",
    "    return df"
   ]
  },
  {
   "cell_type": "code",
   "execution_count": 41,
   "id": "ca28e4bf-6b9d-41de-999a-ca7e2a64f920",
   "metadata": {},
   "outputs": [],
   "source": [
    "df = read_csv()"
   ]
  },
  {
   "cell_type": "code",
   "execution_count": 28,
   "id": "a350680a-4d2b-4d8c-bea7-d8c45b318671",
   "metadata": {},
   "outputs": [],
   "source": [
    "def get_vuln():\n",
    "    df = pd.read_excel(VULN_FILE,sheet_name=VULN_SHEET_NAME)\n",
    "    return df"
   ]
  },
  {
   "cell_type": "code",
   "execution_count": 29,
   "id": "74799064-3c4d-428d-9ae4-e835765cb4ef",
   "metadata": {},
   "outputs": [],
   "source": [
    "vuln_df = get_vuln()"
   ]
  },
  {
   "cell_type": "code",
   "execution_count": 30,
   "id": "b4b60b50-e662-4ca6-bd1e-f5bb5f46a0f7",
   "metadata": {},
   "outputs": [],
   "source": [
    "def find_row(cve, df):    \n",
    "    result = df[df['CVE ID'] == cve]\n",
    "    if len(result) > 0:\n",
    "        return result.iloc[0]\n",
    "    return None"
   ]
  },
  {
   "cell_type": "code",
   "execution_count": 42,
   "id": "df1dba86-7ea3-462f-8043-b04cd2ea28fd",
   "metadata": {},
   "outputs": [
    {
     "data": {
      "text/plain": [
       "Framework                                                          opencv\n",
       "Description             An issue was discovered in OpenCV 4.1.0. There...\n",
       "CVE ID                                                     CVE-2019-15939\n",
       "Root Cause                                          Commits Not Traceable\n",
       "Fixing Pattern                                                        NaN\n",
       "Symptom                                                               NaN\n",
       "Taxonomy                                                   Divide by Zero\n",
       "CWE ID                                                            CWE-369\n",
       "CWE Name                                                   Divide by Zero\n",
       "CWE Pillar                                          Incorrect Calculation\n",
       "Line Addition                                                         NaN\n",
       "Line Deletion                                                         NaN\n",
       "Line Changed                                                          NaN\n",
       "File Changed                                                          NaN\n",
       "Created At                                                            NaN\n",
       "Merged At                                                             NaN\n",
       "Time Cost (Hours)                                                     NaN\n",
       "Comment Count                                                         NaN\n",
       "Review Comment Count                                                  NaN\n",
       "Patch URLs                                                            NaN\n",
       "Name: 159, dtype: object"
      ]
     },
     "execution_count": 42,
     "metadata": {},
     "output_type": "execute_result"
    }
   ],
   "source": [
    "find_row(cve='CVE-2019-15939',df=vuln_df)"
   ]
  },
  {
   "cell_type": "code",
   "execution_count": 43,
   "id": "521338d4-3730-4837-a82d-843f6fb1d18f",
   "metadata": {},
   "outputs": [
    {
     "name": "stdout",
     "output_type": "stream",
     "text": [
      "(465/465)\n"
     ]
    }
   ],
   "source": [
    "total = len(df)\n",
    "for idx, row in df.iterrows():\n",
    "    row = find_row(cve=row['CVE ID'],df=vuln_df)\n",
    "    if row is not None:\n",
    "        df.at[idx, 'Taxonomy'] = row['Taxonomy']\n",
    "        df.at[idx, 'Root Cause'] = row['Root Cause']\n",
    "        df.at[idx, 'Fixing Pattern'] = row['Fixing Pattern']\n",
    "        df.at[idx, 'Symptom'] = row['Symptom']\n",
    "        df.at[idx, 'CWE Name'] = row['CWE Name']\n",
    "        clear_output(wait=True)\n",
    "        print(f\"({idx+1}/{total})\")  "
   ]
  },
  {
   "cell_type": "code",
   "execution_count": 45,
   "id": "bd18d6c9-b270-421a-bf35-3a17ba9709ea",
   "metadata": {},
   "outputs": [],
   "source": [
    "df.to_excel(OUTPUT_FILE,sheet_name='manual', index=False)  "
   ]
  },
  {
   "cell_type": "code",
   "execution_count": null,
   "id": "15d8db5e-4fa2-4617-90c9-038107a277bf",
   "metadata": {},
   "outputs": [],
   "source": []
  }
 ],
 "metadata": {
  "kernelspec": {
   "display_name": "Python 3 (ipykernel)",
   "language": "python",
   "name": "python3"
  },
  "language_info": {
   "codemirror_mode": {
    "name": "ipython",
    "version": 3
   },
   "file_extension": ".py",
   "mimetype": "text/x-python",
   "name": "python",
   "nbconvert_exporter": "python",
   "pygments_lexer": "ipython3",
   "version": "3.9.5"
  }
 },
 "nbformat": 4,
 "nbformat_minor": 5
}
