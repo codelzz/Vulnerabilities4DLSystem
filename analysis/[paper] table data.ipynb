{
 "cells": [
  {
   "cell_type": "markdown",
   "id": "7989e477-ca03-4714-afbd-036518cd14d4",
   "metadata": {},
   "source": [
    "## Paper Data"
   ]
  },
  {
   "cell_type": "code",
   "execution_count": 1,
   "id": "3a657d45-d4b9-404c-a639-c82992bb73c3",
   "metadata": {},
   "outputs": [],
   "source": [
    "import pandas as pd\n",
    "import settings\n",
    "import re\n",
    "import numpy as np"
   ]
  },
  {
   "cell_type": "code",
   "execution_count": 2,
   "id": "bc4711dc-3f0b-45ee-a1aa-4de2e532a9ca",
   "metadata": {},
   "outputs": [],
   "source": [
    "FRAMEWORKS = ['tensorflow','pytorch','opencv','keras','caffe']\n",
    "\n",
    "DISTILLED_DIR = settings.DATA_CONFIG['distilled_dir']\n",
    "MANUAL_DIR = settings.DATA_CONFIG['manual_dir']\n",
    "MANUAL_VULN_FILE = MANUAL_DIR + 'vulnerability_manual.xlsx'\n",
    "MANUAL_SHEET_NAME = 'manual'"
   ]
  },
  {
   "cell_type": "code",
   "execution_count": 3,
   "id": "fdb9ff67-d8a7-415e-930d-b61551a972f7",
   "metadata": {},
   "outputs": [],
   "source": [
    "def get_vuln_manual(filename, sheetname):\n",
    "    return pd.read_excel(filename,sheet_name=sheetname)"
   ]
  },
  {
   "cell_type": "code",
   "execution_count": 4,
   "id": "9b31f0b5-b5a1-449e-bc51-d9cd9f0037e8",
   "metadata": {},
   "outputs": [],
   "source": [
    "df = get_vuln_manual(filename=MANUAL_VULN_FILE, sheetname=MANUAL_SHEET_NAME)"
   ]
  },
  {
   "cell_type": "markdown",
   "id": "1f348716-288b-4388-8c0b-fd7da241754f",
   "metadata": {},
   "source": [
    "#### Table 1:Statistics of the studied deep learning frameworks in our studys"
   ]
  },
  {
   "cell_type": "code",
   "execution_count": 5,
   "id": "2fbac564-0038-4973-98a2-186074350479",
   "metadata": {},
   "outputs": [
    {
     "data": {
      "text/plain": [
       "tensorflow    2154\n",
       "opencv         563\n",
       "pytorch        217\n",
       "caffe           70\n",
       "keras           45\n",
       "Name: Framework, dtype: int64"
      ]
     },
     "execution_count": 5,
     "metadata": {},
     "output_type": "execute_result"
    }
   ],
   "source": [
    "df['Framework'].value_counts()"
   ]
  },
  {
   "cell_type": "markdown",
   "id": "8d035d0d-41d6-4c24-b804-81706031a813",
   "metadata": {},
   "source": [
    "#### Table 3:Latent Vulnerabilities identified in Iteration 1"
   ]
  },
  {
   "cell_type": "code",
   "execution_count": 6,
   "id": "155ec0ad-c631-4c90-81cf-31294a8a1a35",
   "metadata": {},
   "outputs": [
    {
     "name": "stdout",
     "output_type": "stream",
     "text": [
      "Framework  |    PR | Commit\n",
      "tensorflow |  1950 |   3072\n",
      "pytorch    |   286 |    930\n",
      "opencv     |   735 |   2137\n",
      "keras      |    97 |    373\n",
      "caffe      |    96 |    241\n",
      "Total      |  3164 |   6753\n"
     ]
    }
   ],
   "source": [
    "def get_vuln_pr(framework):\n",
    "    filename = DISTILLED_DIR + f'vuln_{framework}_pr.csv'\n",
    "    return pd.read_csv(filename)\n",
    "\n",
    "def get_vuln_commit(framework):\n",
    "    filename = DISTILLED_DIR + f'vuln_{framework}_commit.csv'\n",
    "    return pd.read_csv(filename)\n",
    "\n",
    "print(f\"{'Framework':10} | {'   PR':5} | {'Commit':6}\")\n",
    "total_pr = 0\n",
    "total_commit = 0\n",
    "for framework in FRAMEWORKS:\n",
    "    pr =  get_vuln_pr(framework)\n",
    "    commit = get_vuln_commit(framework)\n",
    "    print(f\"{framework:10} | {len(pr):5} | {len(commit):6}\")\n",
    "    total_pr += len(pr)\n",
    "    total_commit += len(commit)\n",
    "print(f\"{'Total':10} | {total_pr:5} | {total_commit:6}\")"
   ]
  },
  {
   "cell_type": "code",
   "execution_count": 7,
   "id": "9d449e8d-c9e8-4fc5-aa2e-ed949ca6b338",
   "metadata": {},
   "outputs": [],
   "source": [
    "df = get_vuln_manual(filename=MANUAL_VULN_FILE, sheetname=MANUAL_SHEET_NAME)\n",
    "df_ = df[df['Source']  == 'Official'].reset_index(drop=True)\n",
    "df_ = df_[['Framework','CVE ID']]"
   ]
  },
  {
   "cell_type": "code",
   "execution_count": 8,
   "id": "3ed3aa2f-7b1a-4e27-ae62-998d78681936",
   "metadata": {},
   "outputs": [
    {
     "name": "stdout",
     "output_type": "stream",
     "text": [
      "Total:443\n"
     ]
    }
   ],
   "source": [
    "total_CVE = df_['Framework'].value_counts().sum()\n",
    "df_['Framework'].value_counts()\n",
    "print(f'Total:{total_CVE}')"
   ]
  },
  {
   "cell_type": "code",
   "execution_count": 9,
   "id": "2434446d-5cdb-4c53-a92a-627328620bb0",
   "metadata": {},
   "outputs": [
    {
     "data": {
      "text/plain": [
       "10360"
      ]
     },
     "execution_count": 9,
     "metadata": {},
     "output_type": "execute_result"
    }
   ],
   "source": [
    "total_record = total_CVE + total_pr + total_commit\n",
    "total_record"
   ]
  },
  {
   "cell_type": "markdown",
   "id": "6cc84eab-0589-4dc8-8006-2318b867ae7d",
   "metadata": {},
   "source": [
    "#### Table 4: The vulnerability types based on CWE version 4.9 from analytic data"
   ]
  },
  {
   "cell_type": "markdown",
   "id": "5b1def07-02b6-4e3f-affc-572b6663d60d",
   "metadata": {},
   "source": [
    "**CWE Pillars**\n",
    "\n",
    "CWE-664 Improper Control of a Resource Through its Lifetime    \n",
    "CWE-682 Incorrect Calculation    \n",
    "CWE-691 Insufficient Control Flow Management    \n",
    "CWE-693 Protection Mechanism Failure    \n",
    "CWE-703 Improper Check or Handling of Exceptional Conditions    \n",
    "CWE-707 Improper Neutralization    \n",
    "CWE-710 Improper Adherence to Coding Standards   "
   ]
  },
  {
   "cell_type": "code",
   "execution_count": 10,
   "id": "1543ea38-7ca6-4989-83c7-ba72fbdb6c56",
   "metadata": {},
   "outputs": [],
   "source": [
    "Pillars = {\n",
    "    'Improper Control of a Resource Through its Lifetime': 'CWE-664',\n",
    "    'Incorrect Calculation':'CWE-682',\n",
    "    'Insufficient Control Flow Management': 'CWE-691', \n",
    "    'Protection Mechanism Failure':'CWE-693',\n",
    "    'Improper Check or Handling of Exceptional Conditions':'CWE-703',\n",
    "    'Improper Neutralization':'CWE-707',\n",
    "    'Improper Adherence to Coding Standards':'CWE-710',\n",
    "}"
   ]
  },
  {
   "cell_type": "code",
   "execution_count": 11,
   "id": "7abca6d2-6942-4f8f-aa1c-937f2c0a4fe2",
   "metadata": {},
   "outputs": [],
   "source": [
    "df_ = df[['CWE Pillar', 'CWE ID']].copy()\n",
    "# replace CWE Pillar `Other` to nan\n",
    "df_.loc[df_['CWE Pillar'] == 'Other', 'CWE Pillar'] = np.nan\n",
    "# replace Noisy CWE ID\n",
    "CWE_NOISE = ['NVD-CWE-noinfo', 'CWE-Other', 'NVD-CWE-Other']\n",
    "for cwe in CWE_NOISE:\n",
    "    df_.loc[df_['CWE ID'] == cwe, 'CWE ID'] = np.nan\n",
    "# replace Pillar to CWE ID\n",
    "for k, v in Pillars.items():\n",
    "    df_.loc[df_['CWE Pillar'] == k, 'CWE Pillar'] = v\n",
    "    \n",
    "df_.dropna(inplace=True)"
   ]
  },
  {
   "cell_type": "code",
   "execution_count": 12,
   "id": "1a998840-5080-4f66-82b9-cb6f8311d609",
   "metadata": {},
   "outputs": [],
   "source": [
    "PillarIDs = list(df_['CWE Pillar'].unique())"
   ]
  },
  {
   "cell_type": "code",
   "execution_count": 13,
   "id": "5b8b97f7-4e51-4f2f-a242-1792c992bdb8",
   "metadata": {},
   "outputs": [
    {
     "name": "stdout",
     "output_type": "stream",
     "text": [
      "Pi CWE-664: CWE 33: ['CWE-22', 'CWE-94', 'CWE-118', 'CWE-119', 'CWE-120', 'CWE-125', 'CWE-134', 'CWE-197', 'CWE-400', 'CWE-401', 'CWE-404', 'CWE-413', 'CWE-415', 'CWE-416', 'CWE-459', 'CWE-471', 'CWE-502', 'CWE-662', 'CWE-665', 'CWE-667', 'CWE-668', 'CWE-681', 'CWE-704', 'CWE-770', 'CWE-787', 'CWE-789', 'CWE-820', 'CWE-824', 'CWE-825', 'CWE-843', 'CWE-883', 'CWE-908', 'CWE-913']\n",
      "Pi CWE-682: CWE 6: ['CWE-131', 'CWE-190', 'CWE-191', 'CWE-193', 'CWE-369', 'CWE-1339']\n",
      "Pi CWE-691: CWE 9: ['CWE-248', 'CWE-362', 'CWE-431', 'CWE-617', 'CWE-670', 'CWE-674', 'CWE-696', 'CWE-705', 'CWE-835']\n",
      "Pi CWE-693: CWE 3: ['CWE-311', 'CWE-354', 'CWE-778']\n",
      "Pi CWE-703: CWE 6: ['CWE-237', 'CWE-241', 'CWE-252', 'CWE-280', 'CWE-754', 'CWE-755']\n",
      "Pi CWE-707: CWE 5: ['CWE-20', 'CWE-77', 'CWE-1284', 'CWE-1285', 'CWE-1287']\n",
      "Pi CWE-710: CWE 4: ['CWE-476', 'CWE-476 ', 'CWE-561', 'CWE-1357']\n",
      "Total: 73\n"
     ]
    }
   ],
   "source": [
    "total_cwe = len(PillarIDs)\n",
    "for p in sorted(PillarIDs, key=lambda x: int(x[4:])):\n",
    "    cwe = list(df_[df_['CWE Pillar'] == p]['CWE ID'].unique())\n",
    "    if p in cwe:\n",
    "        cwe.remove(p)\n",
    "    total_cwe += len(cwe)\n",
    "    print(f'Pi {p}: CWE {len(cwe)}: {sorted(cwe, key=lambda x: int(x[4:]))}')\n",
    "print('Total:',total_cwe)"
   ]
  },
  {
   "cell_type": "code",
   "execution_count": null,
   "id": "825ab77c-41c4-471c-8772-90e3cc5f7541",
   "metadata": {},
   "outputs": [],
   "source": []
  }
 ],
 "metadata": {
  "kernelspec": {
   "display_name": "Python 3 (ipykernel)",
   "language": "python",
   "name": "python3"
  },
  "language_info": {
   "codemirror_mode": {
    "name": "ipython",
    "version": 3
   },
   "file_extension": ".py",
   "mimetype": "text/x-python",
   "name": "python",
   "nbconvert_exporter": "python",
   "pygments_lexer": "ipython3",
   "version": "3.9.5"
  }
 },
 "nbformat": 4,
 "nbformat_minor": 5
}
