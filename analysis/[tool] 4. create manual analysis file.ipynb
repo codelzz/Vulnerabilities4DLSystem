{
 "cells": [
  {
   "cell_type": "markdown",
   "id": "923420b9-db49-484b-98c8-6d63f4e0e1e9",
   "metadata": {},
   "source": [
    "## [tool] 4. create manual analysis file"
   ]
  },
  {
   "cell_type": "code",
   "execution_count": 5,
   "id": "a0ca5647-e8cb-4bdd-8e4e-37474dfbd900",
   "metadata": {},
   "outputs": [],
   "source": [
    "import codecs\n",
    "import os\n",
    "import numpy as np\n",
    "import pandas as pd\n",
    "import matplotlib.pyplot as plt\n",
    "import seaborn as sns\n",
    "import re\n",
    "import random\n",
    "from IPython.display import clear_output\n",
    "from ast import literal_eval\n",
    "\n",
    "import settings\n",
    "from utils import vplot, vprint"
   ]
  },
  {
   "cell_type": "code",
   "execution_count": 17,
   "id": "f04c15ee-ac20-40de-9e26-f733d99ea2fc",
   "metadata": {},
   "outputs": [],
   "source": [
    "FRAMEWORKS = ['tensorflow','opencv','pytorch','keras', 'caffe']\n",
    "\n",
    "FILTERED_DIR = settings.DATA_CONFIG['distilled_dir']\n",
    "MANUAL_DIR = settings.DATA_CONFIG['manual_dir']"
   ]
  },
  {
   "cell_type": "code",
   "execution_count": 7,
   "id": "5d4b91d6-2d42-4850-9d97-1e98f3523073",
   "metadata": {},
   "outputs": [],
   "source": [
    "def read_csv(framework):\n",
    "    filename = FILTERED_DIR + f'vuln_{framework}_pr+commit.csv'\n",
    "    df = pd.read_csv(filename)\n",
    "    return df\n",
    "\n",
    "dfs = {}\n",
    "for framework in FRAMEWORKS:\n",
    "    dfs[framework] = read_csv(framework)"
   ]
  },
  {
   "cell_type": "code",
   "execution_count": 3,
   "id": "dbe79905-0cc3-4efe-b227-b2569b20180b",
   "metadata": {},
   "outputs": [
    {
     "data": {
      "text/plain": [
       "286"
      ]
     },
     "execution_count": 3,
     "metadata": {},
     "output_type": "execute_result"
    }
   ],
   "source": [
    "pr_cmt_df = pd.read_csv(VULN_PR_COMMIT_FILE)\n",
    "len(pr_cmt_df)"
   ]
  },
  {
   "cell_type": "code",
   "execution_count": 11,
   "id": "6d45f518-c629-4a5e-8813-ea366e25c15c",
   "metadata": {},
   "outputs": [],
   "source": [
    "manual_dfs = {}\n",
    "for framework in FRAMEWORKS:\n",
    "    manual_dfs[framework] = dfs[framework][['pr_number', 'keyword','title','pr_html']].copy()\n",
    "    manual_dfs[framework]['taxonomy'] = ''\n",
    "    manual_dfs[framework]['root_cause'] = ''\n",
    "    manual_dfs[framework]['fixing_pattern'] = ''\n",
    "    manual_dfs[framework]['symptom'] = ''"
   ]
  },
  {
   "cell_type": "code",
   "execution_count": 12,
   "id": "67445257-cdfe-4065-bd14-b76d451c868d",
   "metadata": {},
   "outputs": [
    {
     "data": {
      "text/html": [
       "<div>\n",
       "<style scoped>\n",
       "    .dataframe tbody tr th:only-of-type {\n",
       "        vertical-align: middle;\n",
       "    }\n",
       "\n",
       "    .dataframe tbody tr th {\n",
       "        vertical-align: top;\n",
       "    }\n",
       "\n",
       "    .dataframe thead th {\n",
       "        text-align: right;\n",
       "    }\n",
       "</style>\n",
       "<table border=\"1\" class=\"dataframe\">\n",
       "  <thead>\n",
       "    <tr style=\"text-align: right;\">\n",
       "      <th></th>\n",
       "      <th>pr_number</th>\n",
       "      <th>keyword</th>\n",
       "      <th>title</th>\n",
       "      <th>pr_html</th>\n",
       "      <th>taxonomy</th>\n",
       "      <th>root_cause</th>\n",
       "      <th>fixing_pattern</th>\n",
       "      <th>symptom</th>\n",
       "    </tr>\n",
       "  </thead>\n",
       "  <tbody>\n",
       "    <tr>\n",
       "      <th>0</th>\n",
       "      <td>59038</td>\n",
       "      <td>memory leak</td>\n",
       "      <td>Fix memory leaks in xla::CpuGpuFusionTest</td>\n",
       "      <td>https://github.com/tensorflow/tensorflow/pull/...</td>\n",
       "      <td></td>\n",
       "      <td></td>\n",
       "      <td></td>\n",
       "      <td></td>\n",
       "    </tr>\n",
       "    <tr>\n",
       "      <th>1</th>\n",
       "      <td>59034</td>\n",
       "      <td>memory leak</td>\n",
       "      <td>Fix memory leaks in xla::HloProfileTest</td>\n",
       "      <td>https://github.com/tensorflow/tensorflow/pull/...</td>\n",
       "      <td></td>\n",
       "      <td></td>\n",
       "      <td></td>\n",
       "      <td></td>\n",
       "    </tr>\n",
       "  </tbody>\n",
       "</table>\n",
       "</div>"
      ],
      "text/plain": [
       "   pr_number      keyword                                      title  \\\n",
       "0      59038  memory leak  Fix memory leaks in xla::CpuGpuFusionTest   \n",
       "1      59034  memory leak    Fix memory leaks in xla::HloProfileTest   \n",
       "\n",
       "                                             pr_html taxonomy root_cause  \\\n",
       "0  https://github.com/tensorflow/tensorflow/pull/...                       \n",
       "1  https://github.com/tensorflow/tensorflow/pull/...                       \n",
       "\n",
       "  fixing_pattern symptom  \n",
       "0                         \n",
       "1                         "
      ]
     },
     "execution_count": 12,
     "metadata": {},
     "output_type": "execute_result"
    }
   ],
   "source": [
    "manual_dfs['tensorflow'][:2]"
   ]
  },
  {
   "cell_type": "markdown",
   "id": "f85460c3-d5c2-4693-b89d-525361aa6647",
   "metadata": {},
   "source": [
    "##### change column order"
   ]
  },
  {
   "cell_type": "code",
   "execution_count": 13,
   "id": "7b128070-b82c-4452-8ae5-e3f97b32f61f",
   "metadata": {},
   "outputs": [],
   "source": [
    "columns = ['title', 'pr_number', 'keyword', 'taxonomy', 'root_cause', 'fixing_pattern', 'symptom', 'pr_html']"
   ]
  },
  {
   "cell_type": "markdown",
   "id": "7c057e09-44d6-4e12-ae78-f4c97c88513b",
   "metadata": {},
   "source": [
    "### Only Create file if it is not Exist"
   ]
  },
  {
   "cell_type": "code",
   "execution_count": 20,
   "id": "a1ef88e8-3c62-4767-94b8-5ffce0104840",
   "metadata": {},
   "outputs": [],
   "source": [
    "# for framework in FRAMEWORKS:\n",
    "#     manual_df = manual_dfs[framework]\n",
    "#     manual_df = manual_df[columns]\n",
    "#     manual_df = manual_df.replace(',',' ', regex=True)\n",
    "#     manual_df = manual_df.replace({r'\\r\\n': ' '}, regex=True)\n",
    "#     manual_df = manual_df.replace({r'\\n': ' '}, regex=True)\n",
    "\n",
    "#     manual_file = MANUAL_DIR + f'{framework}_manual.xlsx'\n",
    "#     if not os.path.isfile(manual_file):\n",
    "#         manual_df.to_excel(manual_file,sheet_name='manual', index=False)  "
   ]
  }
 ],
 "metadata": {
  "kernelspec": {
   "display_name": "Python 3 (ipykernel)",
   "language": "python",
   "name": "python3"
  },
  "language_info": {
   "codemirror_mode": {
    "name": "ipython",
    "version": 3
   },
   "file_extension": ".py",
   "mimetype": "text/x-python",
   "name": "python",
   "nbconvert_exporter": "python",
   "pygments_lexer": "ipython3",
   "version": "3.9.5"
  }
 },
 "nbformat": 4,
 "nbformat_minor": 5
}
