{
 "cells": [
  {
   "cell_type": "markdown",
   "id": "f731efe9-8fae-42c9-95a3-8a59c132f63a",
   "metadata": {},
   "source": [
    "## [tool] 2. Data Cleaning"
   ]
  },
  {
   "cell_type": "code",
   "execution_count": 9,
   "id": "3d3696d8-b75e-4d5b-9cc4-9e78cb3426eb",
   "metadata": {},
   "outputs": [],
   "source": [
    "import os\n",
    "import numpy as np\n",
    "import pandas as pd\n",
    "import matplotlib.pyplot as plt\n",
    "import seaborn as sns\n",
    "import re\n",
    "import random\n",
    "from IPython.display import clear_output\n",
    "\n",
    "import settings\n",
    "from utils import vplot, vprint"
   ]
  },
  {
   "cell_type": "code",
   "execution_count": 52,
   "id": "d4d29114-bbfe-4aee-ad71-676403968ad7",
   "metadata": {},
   "outputs": [],
   "source": [
    "FILTERED_DIR = settings.DATA_CONFIG['distilled_dir']\n",
    "RAW_DIR = settings.DATA_CONFIG['raw_dir']\n",
    "\n",
    "FRAMEWORK = \"tensorflow\"\n",
    "\n",
    "VULN_PR_FILE = FILTERED_DIR + f'vuln_{FRAMEWORK}_pr.csv'\n",
    "VULN_COMMIT_FILE = FILTERED_DIR + f'vuln_{FRAMEWORK}_commit.csv'\n",
    "VULN_PR_COMMIT_FILE = FILTERED_DIR + f'vuln_{FRAMEWORK}_pr+commit.csv'"
   ]
  },
  {
   "cell_type": "code",
   "execution_count": 53,
   "id": "e20a5416-3793-448b-b73b-786511dd74cd",
   "metadata": {},
   "outputs": [
    {
     "name": "stdout",
     "output_type": "stream",
     "text": [
      "Pull Request: 1950 | Commit:3072\n"
     ]
    }
   ],
   "source": [
    "vuln_pr_df = pd.read_csv(VULN_PR_FILE)\n",
    "vuln_commit_df = pd.read_csv(VULN_COMMIT_FILE)\n",
    "print(f'Pull Request: {len(vuln_pr_df.index)} | Commit:{len(vuln_commit_df.index)}')"
   ]
  },
  {
   "cell_type": "markdown",
   "id": "9a8eb8ad-4033-4041-9cb0-e3cb93f037b6",
   "metadata": {},
   "source": [
    "#### (Paper) Table 3:  Statistics of the identified latent Vulnerabilities in Iteration 1"
   ]
  },
  {
   "cell_type": "markdown",
   "id": "dfd61960-764c-4e36-bc03-2e0885ac9345",
   "metadata": {},
   "source": [
    "Notices:\n",
    "* Here we have to ignore give up the issues. there are two reason:\n",
    "    * Not all PR mention it's corresponding issue in describution which mean the issue is not traceable.\n",
    "    * Each PR has it's corresponding issue link with same ID\n",
    "* Here we only consider those merged PRs which has completed live cycle.\n",
    "\n",
    "| Repository  | Official CVE |Pull Requests|   Commits   |    Issue    | \n",
    "| ----------- | -----------  | ----------- | ----------- | ----------- |\n",
    "| TensorFlow  |              |     1950    |    3072     |     N/A     |            \n",
    "| Caffe       |              |     96      |    241      |     N/A     |            \n",
    "| OpenCV      |              |     735     |    2137     |     N/A     |            \n",
    "| PyTorch     |              |     286     |    930      |     N/A     |            \n",
    "| Keras       |              |     97      |    373      |     N/A     |       \n",
    "\n",
    "###### <center>Current Version: Data Collected On: 11 Jan 2023</center>\n",
    "\n",
    "| Repository  | Official CVE |Pull Requests|   Commits   |    Issue    | \n",
    "| ----------- | -----------  | ----------- | ----------- | ----------- |\n",
    "| TensorFlow  |    323       |    1665     |    2654     |     N/A     |            \n",
    "| Caffe       |     12       |      90     |     242     |     N/A     |            \n",
    "| OpenCV      |     38       |     667     |    2083     |     N/A     |            \n",
    "| PyTorch     |      3       |     270     |     925     |     N/A     |            \n",
    "| Keras       |      3       |      83     |     366     |     N/A     |       \n",
    "\n",
    "###### <center>Deprecated Version: Data Collected On: 16 July 2022</center>\n",
    "\n",
    "\n",
    "| Repository  | Official CVE |Pull Requests|   Commits   |    Issue    | \n",
    "| ----------- | -----------  | ----------- | ----------- | ----------- |\n",
    "| TensorFlow  |    301       |     216     |    5285     |    1148     |            \n",
    "| Caffe       |      0       |      31     |     133     |    107      |            \n",
    "| OpenCV      |      0       |      71     |     749     |    314      |            \n",
    "| PyTorch     |      0       |    1588     |    1485     |    857      |            \n",
    "| Keras       |      0       |      94     |     194     |    206      |\n",
    "\n",
    "###### <center>Deprecated Version: Data Collected On: 1 February 2022</center>\n"
   ]
  },
  {
   "cell_type": "markdown",
   "id": "adc2347f-8ae8-4f5c-93fb-ed5fdd18b54c",
   "metadata": {},
   "source": [
    "## Extract Information for Manually Investigate"
   ]
  },
  {
   "cell_type": "markdown",
   "id": "86718293-0815-45be-abac-ec473e4e7352",
   "metadata": {},
   "source": [
    "##### Find all vulnerability keyword for each records"
   ]
  },
  {
   "cell_type": "markdown",
   "id": "95a2ea99-fa93-4356-b8c2-6dce0eae0d40",
   "metadata": {},
   "source": [
    "To do so, we match keywords one by one"
   ]
  },
  {
   "cell_type": "markdown",
   "id": "b4e4ce71-2b3c-4dcf-b075-24c8e0834538",
   "metadata": {},
   "source": [
    "### Extract PR"
   ]
  },
  {
   "cell_type": "markdown",
   "id": "5f1902b2-9d0d-4bd9-8390-d3f402288201",
   "metadata": {},
   "source": [
    "##### Apply Keyword"
   ]
  },
  {
   "cell_type": "code",
   "execution_count": 61,
   "id": "56597f64-c789-43f7-aa2b-2c7574bc3449",
   "metadata": {},
   "outputs": [
    {
     "name": "stdout",
     "output_type": "stream",
     "text": [
      "1950\n"
     ]
    }
   ],
   "source": [
    "from searchkey import VulnerabilityRegex\n",
    "REGEX_VULN = VulnerabilityRegex.basic() + '|' + VulnerabilityRegex.enhence()\n",
    "\n",
    "pr_df = vuln_pr_df[['number', 'html', 'title', 'description']].fillna('').copy()\n",
    "pr_df.rename(columns = {'number':'pr_number', 'html':'pr_html'}, inplace = True)\n",
    "pr_df['text'] = pr_df['title'] + ':::' + pr_df['description']\n",
    "pr_df['keyword'] = pr_df['text'].str.extract(f\"({REGEX_VULN})\", flags=re.IGNORECASE)[0].str.lower()\n",
    "pr_df = pr_df.drop(columns=['text'])\n",
    "print(len(pr_df.index))"
   ]
  },
  {
   "cell_type": "markdown",
   "id": "9de72cdc-013f-498f-aa49-02ccc40d044d",
   "metadata": {},
   "source": [
    "### Extract Commit"
   ]
  },
  {
   "cell_type": "code",
   "execution_count": 62,
   "id": "507425cb-b1c1-4b19-bf82-c8b6882d7293",
   "metadata": {},
   "outputs": [
    {
     "name": "stdout",
     "output_type": "stream",
     "text": [
      "Total Unique PR: 1949\n"
     ]
    },
    {
     "data": {
      "text/html": [
       "<div>\n",
       "<style scoped>\n",
       "    .dataframe tbody tr th:only-of-type {\n",
       "        vertical-align: middle;\n",
       "    }\n",
       "\n",
       "    .dataframe tbody tr th {\n",
       "        vertical-align: top;\n",
       "    }\n",
       "\n",
       "    .dataframe thead th {\n",
       "        text-align: right;\n",
       "    }\n",
       "</style>\n",
       "<table border=\"1\" class=\"dataframe\">\n",
       "  <thead>\n",
       "    <tr style=\"text-align: right;\">\n",
       "      <th></th>\n",
       "      <th>pr_number</th>\n",
       "      <th>commit_html</th>\n",
       "      <th>sha</th>\n",
       "      <th>message</th>\n",
       "      <th>changed_files</th>\n",
       "    </tr>\n",
       "  </thead>\n",
       "  <tbody>\n",
       "    <tr>\n",
       "      <th>0</th>\n",
       "      <td>59038</td>\n",
       "      <td>https://github.com/tensorflow/tensorflow/commi...</td>\n",
       "      <td>ecabacdde8c7d9531fcab969f144a6ecaaa72ce5</td>\n",
       "      <td>Fix memory leaks in xla::CpuGpuFusionTest</td>\n",
       "      <td>['tensorflow/compiler/xla/tests/cpu_gpu_fusion...</td>\n",
       "    </tr>\n",
       "  </tbody>\n",
       "</table>\n",
       "</div>"
      ],
      "text/plain": [
       "   pr_number                                        commit_html  \\\n",
       "0      59038  https://github.com/tensorflow/tensorflow/commi...   \n",
       "\n",
       "                                        sha  \\\n",
       "0  ecabacdde8c7d9531fcab969f144a6ecaaa72ce5   \n",
       "\n",
       "                                     message  \\\n",
       "0  Fix memory leaks in xla::CpuGpuFusionTest   \n",
       "\n",
       "                                       changed_files  \n",
       "0  ['tensorflow/compiler/xla/tests/cpu_gpu_fusion...  "
      ]
     },
     "execution_count": 62,
     "metadata": {},
     "output_type": "execute_result"
    }
   ],
   "source": [
    "commit_df = vuln_commit_df[['pr_number','html','sha','message','changed_files']].copy()\n",
    "commit_df.rename(columns = {'html':'commit_html'}, inplace = True)\n",
    "print(f\"Total Unique PR: {len(commit_df['pr_number'].unique())}\")\n",
    "commit_df[:1]"
   ]
  },
  {
   "cell_type": "markdown",
   "id": "ae4ff651-87a0-42e6-a91e-0424381b5bb0",
   "metadata": {},
   "source": [
    "##### Missing Commit Validation"
   ]
  },
  {
   "cell_type": "code",
   "execution_count": 63,
   "id": "7fcd97da-808d-43b8-8c6f-d39a8d63098c",
   "metadata": {},
   "outputs": [],
   "source": [
    "def missing_commit_validation(commit_df, pr_df):\n",
    "    \"\"\"\n",
    "    the function return the missing commits for pr\n",
    "    \"\"\"\n",
    "    missing = []\n",
    "    commit_pr_numbers = np.array(commit_df['pr_number'])\n",
    "    for number in pr_df['pr_number']:\n",
    "        if number not in commit_pr_numbers:\n",
    "            missing.append(number)\n",
    "    return missing\n",
    "# print(f\"Commit Missing:\" + str(missing_commit_validation(commit_df, pr_df)))"
   ]
  },
  {
   "cell_type": "markdown",
   "id": "e7c9570e-cb5a-4767-8202-00b3de6524bc",
   "metadata": {},
   "source": [
    "### Group Commit by PR Number"
   ]
  },
  {
   "cell_type": "code",
   "execution_count": 64,
   "id": "304a57f5-b569-4d65-960b-ac382f243ff4",
   "metadata": {},
   "outputs": [],
   "source": [
    "from ast import literal_eval"
   ]
  },
  {
   "cell_type": "code",
   "execution_count": 65,
   "id": "34d2278f-2899-43aa-b725-54b8536f883f",
   "metadata": {},
   "outputs": [
    {
     "data": {
      "text/html": [
       "<div>\n",
       "<style scoped>\n",
       "    .dataframe tbody tr th:only-of-type {\n",
       "        vertical-align: middle;\n",
       "    }\n",
       "\n",
       "    .dataframe tbody tr th {\n",
       "        vertical-align: top;\n",
       "    }\n",
       "\n",
       "    .dataframe thead th {\n",
       "        text-align: right;\n",
       "    }\n",
       "</style>\n",
       "<table border=\"1\" class=\"dataframe\">\n",
       "  <thead>\n",
       "    <tr style=\"text-align: right;\">\n",
       "      <th></th>\n",
       "      <th>commit_html</th>\n",
       "      <th>message</th>\n",
       "      <th>changed_files</th>\n",
       "    </tr>\n",
       "    <tr>\n",
       "      <th>pr_number</th>\n",
       "      <th></th>\n",
       "      <th></th>\n",
       "      <th></th>\n",
       "    </tr>\n",
       "  </thead>\n",
       "  <tbody>\n",
       "    <tr>\n",
       "      <th>673</th>\n",
       "      <td>[https://github.com/tensorflow/tensorflow/comm...</td>\n",
       "      <td>[PoolAlloc: Remove div by zero, demote WARN-&gt;I...</td>\n",
       "      <td>[tensorflow/core/common_runtime/gpu/pool_alloc...</td>\n",
       "    </tr>\n",
       "  </tbody>\n",
       "</table>\n",
       "</div>"
      ],
      "text/plain": [
       "                                                 commit_html  \\\n",
       "pr_number                                                      \n",
       "673        [https://github.com/tensorflow/tensorflow/comm...   \n",
       "\n",
       "                                                     message  \\\n",
       "pr_number                                                      \n",
       "673        [PoolAlloc: Remove div by zero, demote WARN->I...   \n",
       "\n",
       "                                               changed_files  \n",
       "pr_number                                                     \n",
       "673        [tensorflow/core/common_runtime/gpu/pool_alloc...  "
      ]
     },
     "execution_count": 65,
     "metadata": {},
     "output_type": "execute_result"
    }
   ],
   "source": [
    "nochange = lambda x: list(x)\n",
    "def merged_array(x):\n",
    "    array = []\n",
    "    for arraystr in x:\n",
    "        for item in literal_eval(arraystr):\n",
    "            array.append(item)\n",
    "    return list(array)\n",
    "grouped_commit_df = commit_df.groupby(\"pr_number\").agg({'commit_html':nochange, 'message':nochange, 'changed_files':merged_array})\n",
    "grouped_commit_df[:1]"
   ]
  },
  {
   "cell_type": "markdown",
   "id": "901d413a-095f-4f25-be18-ba74ed67bb3b",
   "metadata": {},
   "source": [
    "### Merge PR with Commit"
   ]
  },
  {
   "cell_type": "code",
   "execution_count": 66,
   "id": "93e18caa-4bcf-4fc1-9039-af8a59862ddd",
   "metadata": {},
   "outputs": [
    {
     "data": {
      "text/plain": [
       "1949"
      ]
     },
     "execution_count": 66,
     "metadata": {},
     "output_type": "execute_result"
    }
   ],
   "source": [
    "merged_df = pd.merge(pr_df, grouped_commit_df, on=\"pr_number\")\n",
    "len(merged_df)"
   ]
  },
  {
   "cell_type": "markdown",
   "id": "c47afa2d-1b7f-4894-ae7f-0967424e0ad2",
   "metadata": {},
   "source": [
    "## Output File"
   ]
  },
  {
   "cell_type": "code",
   "execution_count": 67,
   "id": "2798216a-3936-4c8a-9065-8cace3d5996c",
   "metadata": {},
   "outputs": [],
   "source": [
    "# remove comma\n",
    "# merged_df = merged_df.replace(',',' ', regex=True)\n",
    "# merged_df = merged_df.replace({r'\\r\\n|\\r|\\n': ' '}, regex=True)\n",
    "merged_df.to_csv(VULN_PR_COMMIT_FILE, index=False)"
   ]
  }
 ],
 "metadata": {
  "kernelspec": {
   "display_name": "Python 3 (ipykernel)",
   "language": "python",
   "name": "python3"
  },
  "language_info": {
   "codemirror_mode": {
    "name": "ipython",
    "version": 3
   },
   "file_extension": ".py",
   "mimetype": "text/x-python",
   "name": "python",
   "nbconvert_exporter": "python",
   "pygments_lexer": "ipython3",
   "version": "3.9.5"
  }
 },
 "nbformat": 4,
 "nbformat_minor": 5
}
